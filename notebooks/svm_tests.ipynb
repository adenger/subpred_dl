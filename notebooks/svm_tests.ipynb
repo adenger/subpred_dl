{
 "cells": [
  {
   "cell_type": "code",
   "execution_count": 1,
   "id": "536dac0d",
   "metadata": {},
   "outputs": [],
   "source": [
    "from subpred.protein_go_datasets import get_transmembrane_transporter_dataset, get_stats, get_uniprot_go_dataset"
   ]
  },
  {
   "cell_type": "code",
   "execution_count": null,
   "id": "c4040f75",
   "metadata": {},
   "outputs": [
    {
     "name": "stdout",
     "output_type": "stream",
     "text": [
      "cd-hit: clustered 347 sequences into 291 clusters at threshold 50\n",
      "cd-hit: clustered 347 sequences into 318 clusters at threshold 70\n",
      "cd-hit: clustered 347 sequences into 339 clusters at threshold 90\n",
      "cd-hit: clustered 347 sequences into 347 clusters at threshold 100\n"
     ]
    },
    {
     "data": {
      "application/vnd.microsoft.datawrangler.viewer.v0+json": {
       "columns": [
        {
         "name": "('swissprot_reviewed', 'has_gene_name', 'go_evidence', 'protein_existence_evidence', 'clustering')",
         "rawType": "object",
         "type": "unknown"
        },
        {
         "name": "n_transporters",
         "rawType": "int64",
         "type": "integer"
        },
        {
         "name": "n_terms",
         "rawType": "int64",
         "type": "integer"
        }
       ],
       "conversionMethod": "pd.DataFrame",
       "ref": "daa0afb5-8340-4927-9e47-2f8bdfc73d5d",
       "rows": [
        [
         "(np.True_, np.True_, 'computational', 'protein_level', 50)",
         "222",
         "130"
        ],
        [
         "(np.True_, np.True_, 'computational', 'protein_level', 70)",
         "246",
         "131"
        ],
        [
         "(np.True_, np.True_, 'computational', 'protein_level', 90)",
         "266",
         "131"
        ],
        [
         "(np.True_, np.True_, 'computational', 'protein_level', 100)",
         "274",
         "131"
        ],
        [
         "(np.True_, np.True_, 'computational', 'protein_level', 'None')",
         "274",
         "131"
        ],
        [
         "(np.True_, np.True_, 'experiment', 'protein_level', 50)",
         "263",
         "280"
        ],
        [
         "(np.True_, np.True_, 'experiment', 'protein_level', 70)",
         "287",
         "282"
        ],
        [
         "(np.True_, np.True_, 'experiment', 'protein_level', 90)",
         "308",
         "283"
        ],
        [
         "(np.True_, np.True_, 'experiment', 'protein_level', 100)",
         "316",
         "283"
        ],
        [
         "(np.True_, np.True_, 'experiment', 'protein_level', 'None')",
         "316",
         "283"
        ]
       ],
       "shape": {
        "columns": 2,
        "rows": 10
       }
      },
      "text/html": [
       "<div>\n",
       "<style scoped>\n",
       "    .dataframe tbody tr th:only-of-type {\n",
       "        vertical-align: middle;\n",
       "    }\n",
       "\n",
       "    .dataframe tbody tr th {\n",
       "        vertical-align: top;\n",
       "    }\n",
       "\n",
       "    .dataframe thead th {\n",
       "        text-align: right;\n",
       "    }\n",
       "</style>\n",
       "<table border=\"1\" class=\"dataframe\">\n",
       "  <thead>\n",
       "    <tr style=\"text-align: right;\">\n",
       "      <th></th>\n",
       "      <th></th>\n",
       "      <th></th>\n",
       "      <th></th>\n",
       "      <th></th>\n",
       "      <th>n_transporters</th>\n",
       "      <th>n_terms</th>\n",
       "    </tr>\n",
       "    <tr>\n",
       "      <th>swissprot_reviewed</th>\n",
       "      <th>has_gene_name</th>\n",
       "      <th>go_evidence</th>\n",
       "      <th>protein_existence_evidence</th>\n",
       "      <th>clustering</th>\n",
       "      <th></th>\n",
       "      <th></th>\n",
       "    </tr>\n",
       "  </thead>\n",
       "  <tbody>\n",
       "    <tr>\n",
       "      <th rowspan=\"10\" valign=\"top\">True</th>\n",
       "      <th rowspan=\"10\" valign=\"top\">True</th>\n",
       "      <th rowspan=\"5\" valign=\"top\">computational</th>\n",
       "      <th rowspan=\"5\" valign=\"top\">protein_level</th>\n",
       "      <th>50</th>\n",
       "      <td>222</td>\n",
       "      <td>130</td>\n",
       "    </tr>\n",
       "    <tr>\n",
       "      <th>70</th>\n",
       "      <td>246</td>\n",
       "      <td>131</td>\n",
       "    </tr>\n",
       "    <tr>\n",
       "      <th>90</th>\n",
       "      <td>266</td>\n",
       "      <td>131</td>\n",
       "    </tr>\n",
       "    <tr>\n",
       "      <th>100</th>\n",
       "      <td>274</td>\n",
       "      <td>131</td>\n",
       "    </tr>\n",
       "    <tr>\n",
       "      <th>None</th>\n",
       "      <td>274</td>\n",
       "      <td>131</td>\n",
       "    </tr>\n",
       "    <tr>\n",
       "      <th rowspan=\"5\" valign=\"top\">experiment</th>\n",
       "      <th rowspan=\"5\" valign=\"top\">protein_level</th>\n",
       "      <th>50</th>\n",
       "      <td>263</td>\n",
       "      <td>280</td>\n",
       "    </tr>\n",
       "    <tr>\n",
       "      <th>70</th>\n",
       "      <td>287</td>\n",
       "      <td>282</td>\n",
       "    </tr>\n",
       "    <tr>\n",
       "      <th>90</th>\n",
       "      <td>308</td>\n",
       "      <td>283</td>\n",
       "    </tr>\n",
       "    <tr>\n",
       "      <th>100</th>\n",
       "      <td>316</td>\n",
       "      <td>283</td>\n",
       "    </tr>\n",
       "    <tr>\n",
       "      <th>None</th>\n",
       "      <td>316</td>\n",
       "      <td>283</td>\n",
       "    </tr>\n",
       "  </tbody>\n",
       "</table>\n",
       "</div>"
      ],
      "text/plain": [
       "                                                                                      n_transporters  \\\n",
       "swissprot_reviewed has_gene_name go_evidence   protein_existence_evidence clustering                   \n",
       "True               True          computational protein_level              50                     222   \n",
       "                                                                          70                     246   \n",
       "                                                                          90                     266   \n",
       "                                                                          100                    274   \n",
       "                                                                          None                   274   \n",
       "                                 experiment    protein_level              50                     263   \n",
       "                                                                          70                     287   \n",
       "                                                                          90                     308   \n",
       "                                                                          100                    316   \n",
       "                                                                          None                   316   \n",
       "\n",
       "                                                                                      n_terms  \n",
       "swissprot_reviewed has_gene_name go_evidence   protein_existence_evidence clustering           \n",
       "True               True          computational protein_level              50              130  \n",
       "                                                                          70              131  \n",
       "                                                                          90              131  \n",
       "                                                                          100             131  \n",
       "                                                                          None            131  \n",
       "                                 experiment    protein_level              50              280  \n",
       "                                                                          70              282  \n",
       "                                                                          90              283  \n",
       "                                                                          100             283  \n",
       "                                                                          None            283  "
      ]
     },
     "execution_count": 2,
     "metadata": {},
     "output_type": "execute_result"
    }
   ],
   "source": []
  },
  {
   "cell_type": "code",
   "execution_count": 8,
   "id": "57d3fbe8",
   "metadata": {},
   "outputs": [
    {
     "name": "stdout",
     "output_type": "stream",
     "text": [
      "cd-hit: clustered 347 sequences into 291 clusters at threshold 50\n",
      "cd-hit: clustered 347 sequences into 318 clusters at threshold 70\n",
      "cd-hit: clustered 347 sequences into 339 clusters at threshold 90\n",
      "cd-hit: clustered 347 sequences into 347 clusters at threshold 100\n"
     ]
    },
    {
     "data": {
      "application/vnd.microsoft.datawrangler.viewer.v0+json": {
       "columns": [
        {
         "name": "('swissprot_reviewed', 'has_gene_name', 'go_evidence', 'protein_existence_evidence', 'clustering')",
         "rawType": "object",
         "type": "unknown"
        },
        {
         "name": "n_transporters",
         "rawType": "int64",
         "type": "integer"
        },
        {
         "name": "n_terms",
         "rawType": "int64",
         "type": "integer"
        }
       ],
       "conversionMethod": "pd.DataFrame",
       "ref": "d2a97d6c-69c0-465b-87e0-006db0a1b41f",
       "rows": [
        [
         "(np.True_, np.True_, 'computational', 'protein_level', 50)",
         "222",
         "130"
        ],
        [
         "(np.True_, np.True_, 'computational', 'protein_level', 70)",
         "246",
         "131"
        ],
        [
         "(np.True_, np.True_, 'computational', 'protein_level', 90)",
         "266",
         "131"
        ],
        [
         "(np.True_, np.True_, 'computational', 'protein_level', 100)",
         "274",
         "131"
        ],
        [
         "(np.True_, np.True_, 'computational', 'protein_level', 'None')",
         "274",
         "131"
        ],
        [
         "(np.True_, np.True_, 'experiment', 'protein_level', 50)",
         "263",
         "280"
        ],
        [
         "(np.True_, np.True_, 'experiment', 'protein_level', 70)",
         "287",
         "282"
        ],
        [
         "(np.True_, np.True_, 'experiment', 'protein_level', 90)",
         "308",
         "283"
        ],
        [
         "(np.True_, np.True_, 'experiment', 'protein_level', 100)",
         "316",
         "283"
        ],
        [
         "(np.True_, np.True_, 'experiment', 'protein_level', 'None')",
         "316",
         "283"
        ]
       ],
       "shape": {
        "columns": 2,
        "rows": 10
       }
      },
      "text/html": [
       "<div>\n",
       "<style scoped>\n",
       "    .dataframe tbody tr th:only-of-type {\n",
       "        vertical-align: middle;\n",
       "    }\n",
       "\n",
       "    .dataframe tbody tr th {\n",
       "        vertical-align: top;\n",
       "    }\n",
       "\n",
       "    .dataframe thead th {\n",
       "        text-align: right;\n",
       "    }\n",
       "</style>\n",
       "<table border=\"1\" class=\"dataframe\">\n",
       "  <thead>\n",
       "    <tr style=\"text-align: right;\">\n",
       "      <th></th>\n",
       "      <th></th>\n",
       "      <th></th>\n",
       "      <th></th>\n",
       "      <th></th>\n",
       "      <th>n_transporters</th>\n",
       "      <th>n_terms</th>\n",
       "    </tr>\n",
       "    <tr>\n",
       "      <th>swissprot_reviewed</th>\n",
       "      <th>has_gene_name</th>\n",
       "      <th>go_evidence</th>\n",
       "      <th>protein_existence_evidence</th>\n",
       "      <th>clustering</th>\n",
       "      <th></th>\n",
       "      <th></th>\n",
       "    </tr>\n",
       "  </thead>\n",
       "  <tbody>\n",
       "    <tr>\n",
       "      <th rowspan=\"10\" valign=\"top\">True</th>\n",
       "      <th rowspan=\"10\" valign=\"top\">True</th>\n",
       "      <th rowspan=\"5\" valign=\"top\">computational</th>\n",
       "      <th rowspan=\"5\" valign=\"top\">protein_level</th>\n",
       "      <th>50</th>\n",
       "      <td>222</td>\n",
       "      <td>130</td>\n",
       "    </tr>\n",
       "    <tr>\n",
       "      <th>70</th>\n",
       "      <td>246</td>\n",
       "      <td>131</td>\n",
       "    </tr>\n",
       "    <tr>\n",
       "      <th>90</th>\n",
       "      <td>266</td>\n",
       "      <td>131</td>\n",
       "    </tr>\n",
       "    <tr>\n",
       "      <th>100</th>\n",
       "      <td>274</td>\n",
       "      <td>131</td>\n",
       "    </tr>\n",
       "    <tr>\n",
       "      <th>None</th>\n",
       "      <td>274</td>\n",
       "      <td>131</td>\n",
       "    </tr>\n",
       "    <tr>\n",
       "      <th rowspan=\"5\" valign=\"top\">experiment</th>\n",
       "      <th rowspan=\"5\" valign=\"top\">protein_level</th>\n",
       "      <th>50</th>\n",
       "      <td>263</td>\n",
       "      <td>280</td>\n",
       "    </tr>\n",
       "    <tr>\n",
       "      <th>70</th>\n",
       "      <td>287</td>\n",
       "      <td>282</td>\n",
       "    </tr>\n",
       "    <tr>\n",
       "      <th>90</th>\n",
       "      <td>308</td>\n",
       "      <td>283</td>\n",
       "    </tr>\n",
       "    <tr>\n",
       "      <th>100</th>\n",
       "      <td>316</td>\n",
       "      <td>283</td>\n",
       "    </tr>\n",
       "    <tr>\n",
       "      <th>None</th>\n",
       "      <td>316</td>\n",
       "      <td>283</td>\n",
       "    </tr>\n",
       "  </tbody>\n",
       "</table>\n",
       "</div>"
      ],
      "text/plain": [
       "                                                                                      n_transporters  \\\n",
       "swissprot_reviewed has_gene_name go_evidence   protein_existence_evidence clustering                   \n",
       "True               True          computational protein_level              50                     222   \n",
       "                                                                          70                     246   \n",
       "                                                                          90                     266   \n",
       "                                                                          100                    274   \n",
       "                                                                          None                   274   \n",
       "                                 experiment    protein_level              50                     263   \n",
       "                                                                          70                     287   \n",
       "                                                                          90                     308   \n",
       "                                                                          100                    316   \n",
       "                                                                          None                   316   \n",
       "\n",
       "                                                                                      n_terms  \n",
       "swissprot_reviewed has_gene_name go_evidence   protein_existence_evidence clustering           \n",
       "True               True          computational protein_level              50              130  \n",
       "                                                                          70              131  \n",
       "                                                                          90              131  \n",
       "                                                                          100             131  \n",
       "                                                                          None            131  \n",
       "                                 experiment    protein_level              50              280  \n",
       "                                                                          70              282  \n",
       "                                                                          90              283  \n",
       "                                                                          100             283  \n",
       "                                                                          None            283  "
      ]
     },
     "execution_count": 8,
     "metadata": {},
     "output_type": "execute_result"
    }
   ],
   "source": [
    "dataset_yeast = get_transmembrane_transporter_dataset(  # yeast\n",
    "    organism_ids={559292},\n",
    "    swissprot_only=True,\n",
    "    datasets_path=\"../data/datasets/\",\n",
    "    exclude_iea_go_terms=False,\n",
    "    max_sequence_evidence_code=1,\n",
    "    remove_proteins_without_gene_names=True,\n",
    ")\n",
    "get_stats(*dataset_yeast)"
   ]
  },
  {
   "cell_type": "code",
   "execution_count": 9,
   "id": "98cb43f3",
   "metadata": {},
   "outputs": [
    {
     "name": "stdout",
     "output_type": "stream",
     "text": [
      "cd-hit: clustered 2260 sequences into 1741 clusters at threshold 50\n",
      "cd-hit: clustered 2260 sequences into 2060 clusters at threshold 70\n",
      "cd-hit: clustered 2260 sequences into 2224 clusters at threshold 90\n",
      "cd-hit: clustered 2260 sequences into 2256 clusters at threshold 100\n"
     ]
    },
    {
     "data": {
      "application/vnd.microsoft.datawrangler.viewer.v0+json": {
       "columns": [
        {
         "name": "('swissprot_reviewed', 'has_gene_name', 'go_evidence', 'protein_existence_evidence', 'clustering')",
         "rawType": "object",
         "type": "unknown"
        },
        {
         "name": "n_transporters",
         "rawType": "int64",
         "type": "integer"
        },
        {
         "name": "n_terms",
         "rawType": "int64",
         "type": "integer"
        }
       ],
       "conversionMethod": "pd.DataFrame",
       "ref": "d874a448-37e8-479e-a8d3-64e1de18e4ef",
       "rows": [
        [
         "(np.True_, np.True_, 'experiment', 'protein_level', 50)",
         "1741",
         "718"
        ],
        [
         "(np.True_, np.True_, 'experiment', 'protein_level', 70)",
         "2060",
         "740"
        ],
        [
         "(np.True_, np.True_, 'experiment', 'protein_level', 90)",
         "2224",
         "751"
        ],
        [
         "(np.True_, np.True_, 'experiment', 'protein_level', 100)",
         "2256",
         "751"
        ],
        [
         "(np.True_, np.True_, 'experiment', 'protein_level', 'None')",
         "2260",
         "751"
        ]
       ],
       "shape": {
        "columns": 2,
        "rows": 5
       }
      },
      "text/html": [
       "<div>\n",
       "<style scoped>\n",
       "    .dataframe tbody tr th:only-of-type {\n",
       "        vertical-align: middle;\n",
       "    }\n",
       "\n",
       "    .dataframe tbody tr th {\n",
       "        vertical-align: top;\n",
       "    }\n",
       "\n",
       "    .dataframe thead th {\n",
       "        text-align: right;\n",
       "    }\n",
       "</style>\n",
       "<table border=\"1\" class=\"dataframe\">\n",
       "  <thead>\n",
       "    <tr style=\"text-align: right;\">\n",
       "      <th></th>\n",
       "      <th></th>\n",
       "      <th></th>\n",
       "      <th></th>\n",
       "      <th></th>\n",
       "      <th>n_transporters</th>\n",
       "      <th>n_terms</th>\n",
       "    </tr>\n",
       "    <tr>\n",
       "      <th>swissprot_reviewed</th>\n",
       "      <th>has_gene_name</th>\n",
       "      <th>go_evidence</th>\n",
       "      <th>protein_existence_evidence</th>\n",
       "      <th>clustering</th>\n",
       "      <th></th>\n",
       "      <th></th>\n",
       "    </tr>\n",
       "  </thead>\n",
       "  <tbody>\n",
       "    <tr>\n",
       "      <th rowspan=\"5\" valign=\"top\">True</th>\n",
       "      <th rowspan=\"5\" valign=\"top\">True</th>\n",
       "      <th rowspan=\"5\" valign=\"top\">experiment</th>\n",
       "      <th rowspan=\"5\" valign=\"top\">protein_level</th>\n",
       "      <th>50</th>\n",
       "      <td>1741</td>\n",
       "      <td>718</td>\n",
       "    </tr>\n",
       "    <tr>\n",
       "      <th>70</th>\n",
       "      <td>2060</td>\n",
       "      <td>740</td>\n",
       "    </tr>\n",
       "    <tr>\n",
       "      <th>90</th>\n",
       "      <td>2224</td>\n",
       "      <td>751</td>\n",
       "    </tr>\n",
       "    <tr>\n",
       "      <th>100</th>\n",
       "      <td>2256</td>\n",
       "      <td>751</td>\n",
       "    </tr>\n",
       "    <tr>\n",
       "      <th>None</th>\n",
       "      <td>2260</td>\n",
       "      <td>751</td>\n",
       "    </tr>\n",
       "  </tbody>\n",
       "</table>\n",
       "</div>"
      ],
      "text/plain": [
       "                                                                                    n_transporters  \\\n",
       "swissprot_reviewed has_gene_name go_evidence protein_existence_evidence clustering                   \n",
       "True               True          experiment  protein_level              50                    1741   \n",
       "                                                                        70                    2060   \n",
       "                                                                        90                    2224   \n",
       "                                                                        100                   2256   \n",
       "                                                                        None                  2260   \n",
       "\n",
       "                                                                                    n_terms  \n",
       "swissprot_reviewed has_gene_name go_evidence protein_existence_evidence clustering           \n",
       "True               True          experiment  protein_level              50              718  \n",
       "                                                                        70              740  \n",
       "                                                                        90              751  \n",
       "                                                                        100             751  \n",
       "                                                                        None            751  "
      ]
     },
     "execution_count": 9,
     "metadata": {},
     "output_type": "execute_result"
    }
   ],
   "source": [
    "dataset_meta = get_transmembrane_transporter_dataset(  # meta\n",
    "    organism_ids=[3702, 9606, 83333, 559292],\n",
    "    swissprot_only=True,\n",
    "    datasets_path=\"../data/datasets/\",\n",
    "    exclude_iea_go_terms=True,\n",
    "    max_sequence_evidence_code=1,\n",
    "    remove_proteins_without_gene_names=True,\n",
    ")\n",
    "get_stats(*dataset_meta)"
   ]
  },
  {
   "cell_type": "code",
   "execution_count": 3,
   "id": "29d90e62",
   "metadata": {},
   "outputs": [
    {
     "name": "stdout",
     "output_type": "stream",
     "text": [
      "cd-hit: clustered 420 sequences into 276 clusters at threshold 50\n",
      "cd-hit: clustered 420 sequences into 344 clusters at threshold 70\n",
      "cd-hit: clustered 420 sequences into 403 clusters at threshold 90\n",
      "cd-hit: clustered 420 sequences into 419 clusters at threshold 100\n"
     ]
    },
    {
     "data": {
      "application/vnd.microsoft.datawrangler.viewer.v0+json": {
       "columns": [
        {
         "name": "('swissprot_reviewed', 'has_gene_name', 'go_evidence', 'protein_existence_evidence', 'clustering')",
         "rawType": "object",
         "type": "unknown"
        },
        {
         "name": "n_transporters",
         "rawType": "int64",
         "type": "integer"
        },
        {
         "name": "n_terms",
         "rawType": "int64",
         "type": "integer"
        }
       ],
       "conversionMethod": "pd.DataFrame",
       "ref": "1ea41ca3-1fa6-4f76-9a63-d130023cf1c7",
       "rows": [
        [
         "(np.True_, np.True_, 'experiment', 'protein_level', 50)",
         "276",
         "264"
        ],
        [
         "(np.True_, np.True_, 'experiment', 'protein_level', 70)",
         "344",
         "281"
        ],
        [
         "(np.True_, np.True_, 'experiment', 'protein_level', 90)",
         "403",
         "288"
        ],
        [
         "(np.True_, np.True_, 'experiment', 'protein_level', 100)",
         "419",
         "288"
        ],
        [
         "(np.True_, np.True_, 'experiment', 'protein_level', 'None')",
         "420",
         "288"
        ]
       ],
       "shape": {
        "columns": 2,
        "rows": 5
       }
      },
      "text/html": [
       "<div>\n",
       "<style scoped>\n",
       "    .dataframe tbody tr th:only-of-type {\n",
       "        vertical-align: middle;\n",
       "    }\n",
       "\n",
       "    .dataframe tbody tr th {\n",
       "        vertical-align: top;\n",
       "    }\n",
       "\n",
       "    .dataframe thead th {\n",
       "        text-align: right;\n",
       "    }\n",
       "</style>\n",
       "<table border=\"1\" class=\"dataframe\">\n",
       "  <thead>\n",
       "    <tr style=\"text-align: right;\">\n",
       "      <th></th>\n",
       "      <th></th>\n",
       "      <th></th>\n",
       "      <th></th>\n",
       "      <th></th>\n",
       "      <th>n_transporters</th>\n",
       "      <th>n_terms</th>\n",
       "    </tr>\n",
       "    <tr>\n",
       "      <th>swissprot_reviewed</th>\n",
       "      <th>has_gene_name</th>\n",
       "      <th>go_evidence</th>\n",
       "      <th>protein_existence_evidence</th>\n",
       "      <th>clustering</th>\n",
       "      <th></th>\n",
       "      <th></th>\n",
       "    </tr>\n",
       "  </thead>\n",
       "  <tbody>\n",
       "    <tr>\n",
       "      <th rowspan=\"5\" valign=\"top\">True</th>\n",
       "      <th rowspan=\"5\" valign=\"top\">True</th>\n",
       "      <th rowspan=\"5\" valign=\"top\">experiment</th>\n",
       "      <th rowspan=\"5\" valign=\"top\">protein_level</th>\n",
       "      <th>50</th>\n",
       "      <td>276</td>\n",
       "      <td>264</td>\n",
       "    </tr>\n",
       "    <tr>\n",
       "      <th>70</th>\n",
       "      <td>344</td>\n",
       "      <td>281</td>\n",
       "    </tr>\n",
       "    <tr>\n",
       "      <th>90</th>\n",
       "      <td>403</td>\n",
       "      <td>288</td>\n",
       "    </tr>\n",
       "    <tr>\n",
       "      <th>100</th>\n",
       "      <td>419</td>\n",
       "      <td>288</td>\n",
       "    </tr>\n",
       "    <tr>\n",
       "      <th>None</th>\n",
       "      <td>420</td>\n",
       "      <td>288</td>\n",
       "    </tr>\n",
       "  </tbody>\n",
       "</table>\n",
       "</div>"
      ],
      "text/plain": [
       "                                                                                    n_transporters  \\\n",
       "swissprot_reviewed has_gene_name go_evidence protein_existence_evidence clustering                   \n",
       "True               True          experiment  protein_level              50                     276   \n",
       "                                                                        70                     344   \n",
       "                                                                        90                     403   \n",
       "                                                                        100                    419   \n",
       "                                                                        None                   420   \n",
       "\n",
       "                                                                                    n_terms  \n",
       "swissprot_reviewed has_gene_name go_evidence protein_existence_evidence clustering           \n",
       "True               True          experiment  protein_level              50              264  \n",
       "                                                                        70              281  \n",
       "                                                                        90              288  \n",
       "                                                                        100             288  \n",
       "                                                                        None            288  "
      ]
     },
     "execution_count": 3,
     "metadata": {},
     "output_type": "execute_result"
    }
   ],
   "source": [
    "dataset_athaliana = get_transmembrane_transporter_dataset(  # athaliana\n",
    "    organism_ids=[3702],\n",
    "    swissprot_only=True,\n",
    "    datasets_path=\"../data/datasets/\",\n",
    "    exclude_iea_go_terms=True,\n",
    "    max_sequence_evidence_code=1,\n",
    "    remove_proteins_without_gene_names=True,\n",
    ")\n",
    "get_stats(*dataset_athaliana)"
   ]
  },
  {
   "cell_type": "code",
   "execution_count": null,
   "id": "769500a5",
   "metadata": {},
   "outputs": [],
   "source": []
  }
 ],
 "metadata": {
  "kernelspec": {
   "display_name": "subpred_deeplearning",
   "language": "python",
   "name": "python3"
  },
  "language_info": {
   "codemirror_mode": {
    "name": "ipython",
    "version": 3
   },
   "file_extension": ".py",
   "mimetype": "text/x-python",
   "name": "python",
   "nbconvert_exporter": "python",
   "pygments_lexer": "ipython3",
   "version": "3.12.10"
  }
 },
 "nbformat": 4,
 "nbformat_minor": 5
}
