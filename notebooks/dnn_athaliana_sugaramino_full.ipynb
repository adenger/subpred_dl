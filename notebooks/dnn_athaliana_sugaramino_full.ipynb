{
 "cells": [
  {
   "cell_type": "markdown",
   "id": "3b381715",
   "metadata": {},
   "source": [
    "### Build env for this notebook (temp. fix):\n",
    "\n",
    "Running this on CPU with different environment, as tensorflow does not support 5000-series Nvidia GPUs yet.\n",
    "\n",
    "The SVM notebooks have to be executed first, as they create and export the feature data. Then this notebook is run in the dnn_cpu environment, see Readme.md\n"
   ]
  },
  {
   "cell_type": "markdown",
   "id": "4e5250fd",
   "metadata": {},
   "source": [
    "## Imports"
   ]
  },
  {
   "cell_type": "code",
   "execution_count": 1,
   "id": "826aa94e",
   "metadata": {},
   "outputs": [
    {
     "name": "stderr",
     "output_type": "stream",
     "text": [
      "2025-06-09 03:56:15.057810: I tensorflow/core/util/port.cc:153] oneDNN custom operations are on. You may see slightly different numerical results due to floating-point round-off errors from different computation orders. To turn them off, set the environment variable `TF_ENABLE_ONEDNN_OPTS=0`.\n",
      "2025-06-09 03:56:15.083228: I tensorflow/core/platform/cpu_feature_guard.cc:210] This TensorFlow binary is optimized to use available CPU instructions in performance-critical operations.\n",
      "To enable the following instructions: SSE4.1 SSE4.2 AVX AVX2 AVX512F AVX512_VNNI AVX512_BF16 FMA, in other operations, rebuild TensorFlow with the appropriate compiler flags.\n"
     ]
    }
   ],
   "source": [
    "import pandas as pd\n",
    "import numpy as np\n",
    "import tensorflow as tf\n",
    "from sklearn.preprocessing import StandardScaler\n",
    "from sklearn.feature_selection import VarianceThreshold\n",
    "from sklearn.pipeline import make_pipeline\n",
    "from sklearn.model_selection import (\n",
    "    RepeatedStratifiedKFold,\n",
    ")\n",
    "from sklearn.metrics import f1_score, balanced_accuracy_score, make_scorer\n",
    "\n",
    "import seaborn as sns\n",
    "from subpred.evaluation import plot_results_long\n",
    "from subpred.util import save_results, load_data\n",
    "import random\n",
    "import pickle"
   ]
  },
  {
   "cell_type": "markdown",
   "id": "a9065222",
   "metadata": {},
   "source": [
    "Setting random seeds for all libraries. The seed for TF is a starting seed, and will get incremented with each call of Dropout(). Therefore, the notebook has to be restarted to get the same results again."
   ]
  },
  {
   "cell_type": "code",
   "execution_count": 2,
   "id": "cd54b527",
   "metadata": {},
   "outputs": [],
   "source": [
    "import random\n",
    "\n",
    "random.seed(0)\n",
    "np.random.seed(0)\n",
    "tf.random.set_seed(0)"
   ]
  },
  {
   "cell_type": "markdown",
   "id": "0d10b8f4",
   "metadata": {},
   "source": [
    "Reading feature data from SVM notebook"
   ]
  },
  {
   "cell_type": "code",
   "execution_count": 3,
   "id": "8da64614",
   "metadata": {},
   "outputs": [],
   "source": [
    "# importing feature data from SVM notebooks (they have to be run first)\n",
    "import pickle\n",
    "\n",
    "with open(\"../data/tmp_data/svc_at_sugaramino_ml_data.pickle\", \"rb\") as handle:\n",
    "    ml_datasets = pickle.load(handle)\n",
    "# with open(\"../data/tmp_data/svc_at_sugaramino_outlier_removal_ml_data.pickle\", \"rb\") as handle:\n",
    "#     ml_datasets_filtered = pickle.load(handle)"
   ]
  },
  {
   "cell_type": "markdown",
   "id": "468bf016",
   "metadata": {},
   "source": [
    "Trying three different architectures, as the features have different sizes ranging from 400 to 8000. High dropout of 0.5 should take care of most overfitting problems."
   ]
  },
  {
   "cell_type": "markdown",
   "id": "3f45975d",
   "metadata": {},
   "source": [
    "## Evaluation"
   ]
  },
  {
   "cell_type": "code",
   "execution_count": 4,
   "id": "b9894e40",
   "metadata": {},
   "outputs": [
    {
     "name": "stdout",
     "output_type": "stream",
     "text": [
      "0 DUMMY 1024\n",
      "1 AAC 20\n",
      "2 PAAC 400\n",
      "3 AA_KMER3 8000\n",
      "4 3Di_COMP 20\n",
      "5 3Di_KMER2 400\n",
      "6 3Di_KMER3 8000\n",
      "7 COMB_KMER1 40\n",
      "8 COMB_KMER2 800\n",
      "9 COMB_KMER3 16000\n",
      "10 PROTT5_AA 1024\n",
      "11 PROSTT5_AA 1024\n",
      "12 PROSTT5_3DI 1024\n",
      "13 PSSM_50_1 400\n",
      "14 PSSM_50_3 400\n",
      "15 PSSM_90_1 400\n",
      "16 PSSM_90_3 400\n",
      "17 PSSM_META 1600\n",
      "18 META 2020\n",
      "19 META_STD 2020\n"
     ]
    }
   ],
   "source": [
    "for pos, ml_dataset in enumerate(ml_datasets):\n",
    "    print(pos, ml_dataset.name, len(ml_dataset.feature_names))"
   ]
  },
  {
   "cell_type": "markdown",
   "id": "c76fc045",
   "metadata": {},
   "source": [
    "Using the same metrics as with the SVM, to compare the results better"
   ]
  },
  {
   "cell_type": "code",
   "execution_count": 5,
   "id": "ff9e4e6c",
   "metadata": {},
   "outputs": [],
   "source": [
    "scoring_outer = {\n",
    "    \"Balanced Accuracy\": balanced_accuracy_score,\n",
    "    \"F1 Macro\": lambda y_test, y_pred: f1_score(\n",
    "        y_true=y_test, y_pred=y_pred, average=\"macro\"\n",
    "    ),\n",
    "    \"F1 Amino Acid\": lambda y_test, y_pred: f1_score(\n",
    "        y_true=y_test, y_pred=y_pred, pos_label=0\n",
    "    ),\n",
    "    \"F1 Sugar\": lambda y_test, y_pred: f1_score(\n",
    "        y_true=y_test, y_pred=y_pred, pos_label=1\n",
    "    ),\n",
    "}"
   ]
  },
  {
   "cell_type": "markdown",
   "id": "5ea2a78e",
   "metadata": {},
   "source": [
    "Caching of results. A new test always needs a new test_name, otherwise it reads the old results."
   ]
  },
  {
   "cell_type": "code",
   "execution_count": 6,
   "id": "585d91a5",
   "metadata": {},
   "outputs": [
    {
     "name": "stdout",
     "output_type": "stream",
     "text": [
      "=== DUMMY ===\n",
      "WARNING:tensorflow:5 out of the last 5 calls to <function TensorFlowTrainer.make_predict_function.<locals>.one_step_on_data_distributed at 0x7fb9bc672a20> triggered tf.function retracing. Tracing is expensive and the excessive number of tracings could be due to (1) creating @tf.function repeatedly in a loop, (2) passing tensors with different shapes, (3) passing Python objects instead of tensors. For (1), please define your @tf.function outside of the loop. For (2), @tf.function has reduce_retracing=True option that can avoid unnecessary retracing. For (3), please refer to https://www.tensorflow.org/guide/function#controlling_retracing and https://www.tensorflow.org/api_docs/python/tf/function for  more details.\n",
      "WARNING:tensorflow:6 out of the last 6 calls to <function TensorFlowTrainer.make_predict_function.<locals>.one_step_on_data_distributed at 0x7fb97c3d6200> triggered tf.function retracing. Tracing is expensive and the excessive number of tracings could be due to (1) creating @tf.function repeatedly in a loop, (2) passing tensors with different shapes, (3) passing Python objects instead of tensors. For (1), please define your @tf.function outside of the loop. For (2), @tf.function has reduce_retracing=True option that can avoid unnecessary retracing. For (3), please refer to https://www.tensorflow.org/guide/function#controlling_retracing and https://www.tensorflow.org/api_docs/python/tf/function for  more details.\n",
      "=== AAC ===\n",
      "=== PAAC ===\n",
      "=== AA_KMER3 ===\n",
      "=== 3Di_COMP ===\n",
      "=== 3Di_KMER2 ===\n",
      "=== 3Di_KMER3 ===\n",
      "=== COMB_KMER1 ===\n",
      "=== COMB_KMER2 ===\n",
      "=== COMB_KMER3 ===\n",
      "=== PROTT5_AA ===\n",
      "=== PROSTT5_AA ===\n",
      "=== PROSTT5_3DI ===\n",
      "=== PSSM_50_1 ===\n",
      "=== PSSM_50_3 ===\n",
      "=== PSSM_90_1 ===\n",
      "=== PSSM_90_3 ===\n",
      "=== PSSM_META ===\n",
      "=== META ===\n",
      "=== META_STD ===\n"
     ]
    }
   ],
   "source": [
    "TEST_NAME = f\"dnn_at_sugaramino2\"  # TODO change back, compare\n",
    "from subpred.dnn import crossval_dnn, create_model\n",
    "from pathlib import Path\n",
    "\n",
    "if Path(f\"../data/results/{TEST_NAME}.pickle\").exists():\n",
    "    df_results_all = load_data(TEST_NAME, folder_path=\"../data/results\")\n",
    "else:\n",
    "    results = [\n",
    "        crossval_dnn(\n",
    "            ml_dataset=ml_dataset,\n",
    "            model_func=create_model,\n",
    "            scores_dict=scoring_outer,\n",
    "            splits=5,\n",
    "            repeats=5,\n",
    "            epochs=50,\n",
    "            batch_size=8,\n",
    "        )\n",
    "        for ml_dataset in ml_datasets\n",
    "    ]\n",
    "    df_results_all = pd.concat(results)\n",
    "    save_results(df_results_all, TEST_NAME, folder_path=\"../data/results\")"
   ]
  },
  {
   "cell_type": "code",
   "execution_count": 7,
   "id": "6be1d3e6",
   "metadata": {},
   "outputs": [],
   "source": [
    "ml_datasets = ml_datasets[:6]"
   ]
  },
  {
   "cell_type": "markdown",
   "id": "08b9f86c",
   "metadata": {},
   "source": [
    "## Plots"
   ]
  },
  {
   "cell_type": "code",
   "execution_count": 8,
   "id": "fd7ffc33",
   "metadata": {},
   "outputs": [],
   "source": [
    "# same plot as for svm, to compare\n",
    "df_results_plot = df_results_all.copy()\n",
    "df_results_plot.Feature = df_results_plot.Feature.str.replace(\"_\", \"-\").replace(\n",
    "    \"PSSM-META\", \"MULTI-PSSM\"\n",
    ")\n",
    "df_results_plot = df_results_plot[~df_results_plot.Feature.str.match(r\"^PSSM-\\d+\")]\n",
    "df_results_plot = df_results_plot[~df_results_plot.Feature.str.startswith(\"COMB\")]\n",
    "feature_order = [\n",
    "    \"DUMMY\",\n",
    "    \"AAC\",\n",
    "    \"PAAC\",\n",
    "    \"AA-KMER3\",\n",
    "    # \"PSSM-50-1\",\n",
    "    # \"PSSM-50-3\",\n",
    "    # \"PSSM-90-1\",\n",
    "    # \"PSSM-90-3\",\n",
    "    # \"PSSM-META\",\n",
    "    \"MULTI-PSSM\",\n",
    "    \"META\",\n",
    "    # \"META-STD\",\n",
    "    # \"PROTT5-AA\",\n",
    "    # \"PROSTT5-AA\",\n",
    "    # \"PROSTT5-3DI\",\n",
    "    # \"3Di-COMP\",\n",
    "    # \"3Di-KMER2\",\n",
    "    # \"3Di-KMER3\",\n",
    "    # \"COMB-KMER1\",\n",
    "    # \"COMB-KMER2\",\n",
    "    # \"COMB-KMER3\",\n",
    "]"
   ]
  },
  {
   "cell_type": "code",
   "execution_count": 9,
   "id": "9bbe94a2",
   "metadata": {},
   "outputs": [
    {
     "data": {
      "text/plain": [
       "array(['DUMMY', 'AAC', 'PAAC', 'AA-KMER3', '3Di-COMP', '3Di-KMER2',\n",
       "       '3Di-KMER3', 'PROTT5-AA', 'PROSTT5-AA', 'PROSTT5-3DI',\n",
       "       'MULTI-PSSM', 'META', 'META-STD'], dtype=object)"
      ]
     },
     "execution_count": 9,
     "metadata": {},
     "output_type": "execute_result"
    }
   ],
   "source": [
    "df_results_plot.Feature.unique()"
   ]
  },
  {
   "cell_type": "markdown",
   "id": "7cd4d993",
   "metadata": {},
   "source": [
    "saves plot with test name and metrics in name"
   ]
  },
  {
   "cell_type": "code",
   "execution_count": 10,
   "id": "fb72642c",
   "metadata": {},
   "outputs": [
    {
     "ename": "ValueError",
     "evalue": "cannot reindex on an axis with duplicate labels",
     "output_type": "error",
     "traceback": [
      "\u001b[31m---------------------------------------------------------------------------\u001b[39m",
      "\u001b[31mValueError\u001b[39m                                Traceback (most recent call last)",
      "\u001b[36mCell\u001b[39m\u001b[36m \u001b[39m\u001b[32mIn[10]\u001b[39m\u001b[32m, line 1\u001b[39m\n\u001b[32m----> \u001b[39m\u001b[32m1\u001b[39m \u001b[43mplot_results_long\u001b[49m\u001b[43m(\u001b[49m\n\u001b[32m      2\u001b[39m \u001b[43m    \u001b[49m\u001b[43mdf_results_long\u001b[49m\u001b[43m=\u001b[49m\u001b[43mdf_results_plot\u001b[49m\u001b[43m,\u001b[49m\n\u001b[32m      3\u001b[39m \u001b[43m    \u001b[49m\u001b[43moutput_folder_path\u001b[49m\u001b[43m=\u001b[49m\u001b[33;43m\"\u001b[39;49m\u001b[33;43m../data/results/\u001b[39;49m\u001b[33;43m\"\u001b[39;49m\u001b[43m,\u001b[49m\n\u001b[32m      4\u001b[39m \u001b[43m    \u001b[49m\u001b[43mtest_name\u001b[49m\u001b[43m=\u001b[49m\u001b[43mTEST_NAME\u001b[49m\u001b[43m,\u001b[49m\n\u001b[32m      5\u001b[39m \u001b[43m    \u001b[49m\u001b[43mplot_order\u001b[49m\u001b[43m=\u001b[49m\u001b[43mfeature_order\u001b[49m\u001b[43m,\u001b[49m\n\u001b[32m      6\u001b[39m \u001b[43m    \u001b[49m\u001b[43mmetrics_include\u001b[49m\u001b[43m=\u001b[49m\u001b[43m[\u001b[49m\u001b[33;43m\"\u001b[39;49m\u001b[33;43mF1 Amino Acid\u001b[39;49m\u001b[33;43m\"\u001b[39;49m\u001b[43m,\u001b[49m\u001b[43m \u001b[49m\u001b[33;43m\"\u001b[39;49m\u001b[33;43mF1 Sugar\u001b[39;49m\u001b[33;43m\"\u001b[39;49m\u001b[43m]\u001b[49m\u001b[43m,\u001b[49m\n\u001b[32m      7\u001b[39m \u001b[43m)\u001b[49m\n",
      "\u001b[36mFile \u001b[39m\u001b[32m~/subpred_deeplearning/subpred/evaluation.py:220\u001b[39m, in \u001b[36mplot_results_long\u001b[39m\u001b[34m(df_results_long, output_folder_path, test_name, plot_order, y_max, figsize, plot_type, metrics_include)\u001b[39m\n\u001b[32m    218\u001b[39m     \u001b[38;5;28;01mcase\u001b[39;00m x:\n\u001b[32m    219\u001b[39m         \u001b[38;5;28;01mraise\u001b[39;00m \u001b[38;5;167;01mValueError\u001b[39;00m(\u001b[33mf\u001b[39m\u001b[33m\"\u001b[39m\u001b[33munknown plot type \u001b[39m\u001b[38;5;132;01m{\u001b[39;00mx\u001b[38;5;132;01m}\u001b[39;00m\u001b[33m\"\u001b[39m)\n\u001b[32m--> \u001b[39m\u001b[32m220\u001b[39m \u001b[43mplot_func\u001b[49m\u001b[43m(\u001b[49m\n\u001b[32m    221\u001b[39m \u001b[43m    \u001b[49m\u001b[43mdf_results_long_plt\u001b[49m\u001b[43m,\u001b[49m\n\u001b[32m    222\u001b[39m \u001b[43m    \u001b[49m\u001b[43mx\u001b[49m\u001b[43m=\u001b[49m\u001b[33;43m\"\u001b[39;49m\u001b[33;43mFeature\u001b[39;49m\u001b[33;43m\"\u001b[39;49m\u001b[43m,\u001b[49m\n\u001b[32m    223\u001b[39m \u001b[43m    \u001b[49m\u001b[43my\u001b[49m\u001b[43m=\u001b[49m\u001b[33;43m\"\u001b[39;49m\u001b[33;43mValue\u001b[39;49m\u001b[33;43m\"\u001b[39;49m\u001b[43m \u001b[49m\u001b[38;5;28;43;01mif\u001b[39;49;00m\u001b[43m \u001b[49m\u001b[43mmultiple_metrics\u001b[49m\u001b[43m \u001b[49m\u001b[38;5;28;43;01melse\u001b[39;49;00m\u001b[43m \u001b[49m\u001b[43mmetric_name\u001b[49m\u001b[43m,\u001b[49m\n\u001b[32m    224\u001b[39m \u001b[43m    \u001b[49m\u001b[43mhue\u001b[49m\u001b[43m=\u001b[49m\u001b[33;43m\"\u001b[39;49m\u001b[33;43mMetric\u001b[39;49m\u001b[33;43m\"\u001b[39;49m\u001b[43m \u001b[49m\u001b[38;5;28;43;01mif\u001b[39;49;00m\u001b[43m \u001b[49m\u001b[43mmultiple_metrics\u001b[49m\u001b[43m \u001b[49m\u001b[38;5;28;43;01melse\u001b[39;49;00m\u001b[43m \u001b[49m\u001b[38;5;28;43;01mNone\u001b[39;49;00m\u001b[43m,\u001b[49m\n\u001b[32m    225\u001b[39m \u001b[43m    \u001b[49m\u001b[43morder\u001b[49m\u001b[43m=\u001b[49m\u001b[43mplot_order\u001b[49m\u001b[43m,\u001b[49m\n\u001b[32m    226\u001b[39m \u001b[43m\u001b[49m\u001b[43m)\u001b[49m\n\u001b[32m    227\u001b[39m plt.xticks(rotation=\u001b[32m90\u001b[39m)\n\u001b[32m    228\u001b[39m plt.ylim((\u001b[32m0\u001b[39m, y_max))\n",
      "\u001b[36mFile \u001b[39m\u001b[32m~/miniforge3/envs/dnn_cpu/lib/python3.12/site-packages/seaborn/categorical.py:1634\u001b[39m, in \u001b[36mboxplot\u001b[39m\u001b[34m(data, x, y, hue, order, hue_order, orient, color, palette, saturation, fill, dodge, width, gap, whis, linecolor, linewidth, fliersize, hue_norm, native_scale, log_scale, formatter, legend, ax, **kwargs)\u001b[39m\n\u001b[32m   1627\u001b[39m color = _default_color(\n\u001b[32m   1628\u001b[39m     ax.fill_between, hue, color,\n\u001b[32m   1629\u001b[39m     {k: v \u001b[38;5;28;01mfor\u001b[39;00m k, v \u001b[38;5;129;01min\u001b[39;00m kwargs.items() \u001b[38;5;28;01mif\u001b[39;00m k \u001b[38;5;129;01min\u001b[39;00m [\u001b[33m\"\u001b[39m\u001b[33mc\u001b[39m\u001b[33m\"\u001b[39m, \u001b[33m\"\u001b[39m\u001b[33mcolor\u001b[39m\u001b[33m\"\u001b[39m, \u001b[33m\"\u001b[39m\u001b[33mfc\u001b[39m\u001b[33m\"\u001b[39m, \u001b[33m\"\u001b[39m\u001b[33mfacecolor\u001b[39m\u001b[33m\"\u001b[39m]},\n\u001b[32m   1630\u001b[39m     saturation=saturation,\n\u001b[32m   1631\u001b[39m )\n\u001b[32m   1632\u001b[39m linecolor = p._complement_color(linecolor, color, p._hue_map)\n\u001b[32m-> \u001b[39m\u001b[32m1634\u001b[39m \u001b[43mp\u001b[49m\u001b[43m.\u001b[49m\u001b[43mplot_boxes\u001b[49m\u001b[43m(\u001b[49m\n\u001b[32m   1635\u001b[39m \u001b[43m    \u001b[49m\u001b[43mwidth\u001b[49m\u001b[43m=\u001b[49m\u001b[43mwidth\u001b[49m\u001b[43m,\u001b[49m\n\u001b[32m   1636\u001b[39m \u001b[43m    \u001b[49m\u001b[43mdodge\u001b[49m\u001b[43m=\u001b[49m\u001b[43mdodge\u001b[49m\u001b[43m,\u001b[49m\n\u001b[32m   1637\u001b[39m \u001b[43m    \u001b[49m\u001b[43mgap\u001b[49m\u001b[43m=\u001b[49m\u001b[43mgap\u001b[49m\u001b[43m,\u001b[49m\n\u001b[32m   1638\u001b[39m \u001b[43m    \u001b[49m\u001b[43mfill\u001b[49m\u001b[43m=\u001b[49m\u001b[43mfill\u001b[49m\u001b[43m,\u001b[49m\n\u001b[32m   1639\u001b[39m \u001b[43m    \u001b[49m\u001b[43mwhis\u001b[49m\u001b[43m=\u001b[49m\u001b[43mwhis\u001b[49m\u001b[43m,\u001b[49m\n\u001b[32m   1640\u001b[39m \u001b[43m    \u001b[49m\u001b[43mcolor\u001b[49m\u001b[43m=\u001b[49m\u001b[43mcolor\u001b[49m\u001b[43m,\u001b[49m\n\u001b[32m   1641\u001b[39m \u001b[43m    \u001b[49m\u001b[43mlinecolor\u001b[49m\u001b[43m=\u001b[49m\u001b[43mlinecolor\u001b[49m\u001b[43m,\u001b[49m\n\u001b[32m   1642\u001b[39m \u001b[43m    \u001b[49m\u001b[43mlinewidth\u001b[49m\u001b[43m=\u001b[49m\u001b[43mlinewidth\u001b[49m\u001b[43m,\u001b[49m\n\u001b[32m   1643\u001b[39m \u001b[43m    \u001b[49m\u001b[43mfliersize\u001b[49m\u001b[43m=\u001b[49m\u001b[43mfliersize\u001b[49m\u001b[43m,\u001b[49m\n\u001b[32m   1644\u001b[39m \u001b[43m    \u001b[49m\u001b[43mplot_kws\u001b[49m\u001b[43m=\u001b[49m\u001b[43mkwargs\u001b[49m\u001b[43m,\u001b[49m\n\u001b[32m   1645\u001b[39m \u001b[43m\u001b[49m\u001b[43m)\u001b[49m\n\u001b[32m   1647\u001b[39m p._add_axis_labels(ax)\n\u001b[32m   1648\u001b[39m p._adjust_cat_axis(ax, axis=p.orient)\n",
      "\u001b[36mFile \u001b[39m\u001b[32m~/miniforge3/envs/dnn_cpu/lib/python3.12/site-packages/seaborn/categorical.py:631\u001b[39m, in \u001b[36m_CategoricalPlotter.plot_boxes\u001b[39m\u001b[34m(self, width, dodge, gap, fill, whis, color, linecolor, linewidth, fliersize, plot_kws)\u001b[39m\n\u001b[32m    627\u001b[39m props[\u001b[33m\"\u001b[39m\u001b[33mflier\u001b[39m\u001b[33m\"\u001b[39m].setdefault(\u001b[33m\"\u001b[39m\u001b[33mmarkersize\u001b[39m\u001b[33m\"\u001b[39m, fliersize)\n\u001b[32m    629\u001b[39m ax = \u001b[38;5;28mself\u001b[39m.ax\n\u001b[32m--> \u001b[39m\u001b[32m631\u001b[39m \u001b[43m\u001b[49m\u001b[38;5;28;43;01mfor\u001b[39;49;00m\u001b[43m \u001b[49m\u001b[43msub_vars\u001b[49m\u001b[43m,\u001b[49m\u001b[43m \u001b[49m\u001b[43msub_data\u001b[49m\u001b[43m \u001b[49m\u001b[38;5;129;43;01min\u001b[39;49;00m\u001b[43m \u001b[49m\u001b[38;5;28;43mself\u001b[39;49m\u001b[43m.\u001b[49m\u001b[43miter_data\u001b[49m\u001b[43m(\u001b[49m\u001b[43miter_vars\u001b[49m\u001b[43m,\u001b[49m\n\u001b[32m    632\u001b[39m \u001b[43m                                         \u001b[49m\u001b[43mfrom_comp_data\u001b[49m\u001b[43m=\u001b[49m\u001b[38;5;28;43;01mTrue\u001b[39;49;00m\u001b[43m,\u001b[49m\n\u001b[32m    633\u001b[39m \u001b[43m                                         \u001b[49m\u001b[43mallow_empty\u001b[49m\u001b[43m=\u001b[49m\u001b[38;5;28;43;01mFalse\u001b[39;49;00m\u001b[43m)\u001b[49m\u001b[43m:\u001b[49m\n\u001b[32m    635\u001b[39m \u001b[43m    \u001b[49m\u001b[43max\u001b[49m\u001b[43m \u001b[49m\u001b[43m=\u001b[49m\u001b[43m \u001b[49m\u001b[38;5;28;43mself\u001b[39;49m\u001b[43m.\u001b[49m\u001b[43m_get_axes\u001b[49m\u001b[43m(\u001b[49m\u001b[43msub_vars\u001b[49m\u001b[43m)\u001b[49m\n\u001b[32m    637\u001b[39m \u001b[43m    \u001b[49m\u001b[43mgrouped\u001b[49m\u001b[43m \u001b[49m\u001b[43m=\u001b[49m\u001b[43m \u001b[49m\u001b[43msub_data\u001b[49m\u001b[43m.\u001b[49m\u001b[43mgroupby\u001b[49m\u001b[43m(\u001b[49m\u001b[38;5;28;43mself\u001b[39;49m\u001b[43m.\u001b[49m\u001b[43morient\u001b[49m\u001b[43m)\u001b[49m\u001b[43m[\u001b[49m\u001b[43mvalue_var\u001b[49m\u001b[43m]\u001b[49m\n",
      "\u001b[36mFile \u001b[39m\u001b[32m~/miniforge3/envs/dnn_cpu/lib/python3.12/site-packages/seaborn/_base.py:902\u001b[39m, in \u001b[36mVectorPlotter.iter_data\u001b[39m\u001b[34m(self, grouping_vars, reverse, from_comp_data, by_facet, allow_empty, dropna)\u001b[39m\n\u001b[32m    899\u001b[39m grouping_vars = [var \u001b[38;5;28;01mfor\u001b[39;00m var \u001b[38;5;129;01min\u001b[39;00m grouping_vars \u001b[38;5;28;01mif\u001b[39;00m var \u001b[38;5;129;01min\u001b[39;00m \u001b[38;5;28mself\u001b[39m.variables]\n\u001b[32m    901\u001b[39m \u001b[38;5;28;01mif\u001b[39;00m from_comp_data:\n\u001b[32m--> \u001b[39m\u001b[32m902\u001b[39m     data = \u001b[38;5;28;43mself\u001b[39;49m\u001b[43m.\u001b[49m\u001b[43mcomp_data\u001b[49m\n\u001b[32m    903\u001b[39m \u001b[38;5;28;01melse\u001b[39;00m:\n\u001b[32m    904\u001b[39m     data = \u001b[38;5;28mself\u001b[39m.plot_data\n",
      "\u001b[36mFile \u001b[39m\u001b[32m~/miniforge3/envs/dnn_cpu/lib/python3.12/site-packages/seaborn/_base.py:1007\u001b[39m, in \u001b[36mVectorPlotter.comp_data\u001b[39m\u001b[34m(self)\u001b[39m\n\u001b[32m   1005\u001b[39m         \u001b[38;5;28;01melse\u001b[39;00m:\n\u001b[32m   1006\u001b[39m             comp_col = pd.Series(dtype=\u001b[38;5;28mfloat\u001b[39m, name=var)\n\u001b[32m-> \u001b[39m\u001b[32m1007\u001b[39m         \u001b[43mcomp_data\u001b[49m\u001b[43m.\u001b[49m\u001b[43minsert\u001b[49m\u001b[43m(\u001b[49m\u001b[32;43m0\u001b[39;49m\u001b[43m,\u001b[49m\u001b[43m \u001b[49m\u001b[43mvar\u001b[49m\u001b[43m,\u001b[49m\u001b[43m \u001b[49m\u001b[43mcomp_col\u001b[49m\u001b[43m)\u001b[49m\n\u001b[32m   1009\u001b[39m     \u001b[38;5;28mself\u001b[39m._comp_data = comp_data\n\u001b[32m   1011\u001b[39m \u001b[38;5;28;01mreturn\u001b[39;00m \u001b[38;5;28mself\u001b[39m._comp_data\n",
      "\u001b[36mFile \u001b[39m\u001b[32m~/miniforge3/envs/dnn_cpu/lib/python3.12/site-packages/pandas/core/frame.py:5171\u001b[39m, in \u001b[36mDataFrame.insert\u001b[39m\u001b[34m(self, loc, column, value, allow_duplicates)\u001b[39m\n\u001b[32m   5168\u001b[39m \u001b[38;5;28;01melif\u001b[39;00m \u001b[38;5;28misinstance\u001b[39m(value, DataFrame):\n\u001b[32m   5169\u001b[39m     value = value.iloc[:, \u001b[32m0\u001b[39m]\n\u001b[32m-> \u001b[39m\u001b[32m5171\u001b[39m value, refs = \u001b[38;5;28;43mself\u001b[39;49m\u001b[43m.\u001b[49m\u001b[43m_sanitize_column\u001b[49m\u001b[43m(\u001b[49m\u001b[43mvalue\u001b[49m\u001b[43m)\u001b[49m\n\u001b[32m   5172\u001b[39m \u001b[38;5;28mself\u001b[39m._mgr.insert(loc, column, value, refs=refs)\n",
      "\u001b[36mFile \u001b[39m\u001b[32m~/miniforge3/envs/dnn_cpu/lib/python3.12/site-packages/pandas/core/frame.py:5263\u001b[39m, in \u001b[36mDataFrame._sanitize_column\u001b[39m\u001b[34m(self, value)\u001b[39m\n\u001b[32m   5261\u001b[39m     \u001b[38;5;28;01mif\u001b[39;00m \u001b[38;5;129;01mnot\u001b[39;00m \u001b[38;5;28misinstance\u001b[39m(value, Series):\n\u001b[32m   5262\u001b[39m         value = Series(value)\n\u001b[32m-> \u001b[39m\u001b[32m5263\u001b[39m     \u001b[38;5;28;01mreturn\u001b[39;00m \u001b[43m_reindex_for_setitem\u001b[49m\u001b[43m(\u001b[49m\u001b[43mvalue\u001b[49m\u001b[43m,\u001b[49m\u001b[43m \u001b[49m\u001b[38;5;28;43mself\u001b[39;49m\u001b[43m.\u001b[49m\u001b[43mindex\u001b[49m\u001b[43m)\u001b[49m\n\u001b[32m   5265\u001b[39m \u001b[38;5;28;01mif\u001b[39;00m is_list_like(value):\n\u001b[32m   5266\u001b[39m     com.require_length_match(value, \u001b[38;5;28mself\u001b[39m.index)\n",
      "\u001b[36mFile \u001b[39m\u001b[32m~/miniforge3/envs/dnn_cpu/lib/python3.12/site-packages/pandas/core/frame.py:12692\u001b[39m, in \u001b[36m_reindex_for_setitem\u001b[39m\u001b[34m(value, index)\u001b[39m\n\u001b[32m  12688\u001b[39m \u001b[38;5;28;01mexcept\u001b[39;00m \u001b[38;5;167;01mValueError\u001b[39;00m \u001b[38;5;28;01mas\u001b[39;00m err:\n\u001b[32m  12689\u001b[39m     \u001b[38;5;66;03m# raised in MultiIndex.from_tuples, see test_insert_error_msmgs\u001b[39;00m\n\u001b[32m  12690\u001b[39m     \u001b[38;5;28;01mif\u001b[39;00m \u001b[38;5;129;01mnot\u001b[39;00m value.index.is_unique:\n\u001b[32m  12691\u001b[39m         \u001b[38;5;66;03m# duplicate axis\u001b[39;00m\n\u001b[32m> \u001b[39m\u001b[32m12692\u001b[39m         \u001b[38;5;28;01mraise\u001b[39;00m err\n\u001b[32m  12694\u001b[39m     \u001b[38;5;28;01mraise\u001b[39;00m \u001b[38;5;167;01mTypeError\u001b[39;00m(\n\u001b[32m  12695\u001b[39m         \u001b[33m\"\u001b[39m\u001b[33mincompatible index of inserted column with frame index\u001b[39m\u001b[33m\"\u001b[39m\n\u001b[32m  12696\u001b[39m     ) \u001b[38;5;28;01mfrom\u001b[39;00m\u001b[38;5;250m \u001b[39m\u001b[34;01merr\u001b[39;00m\n\u001b[32m  12697\u001b[39m \u001b[38;5;28;01mreturn\u001b[39;00m reindexed_value, \u001b[38;5;28;01mNone\u001b[39;00m\n",
      "\u001b[36mFile \u001b[39m\u001b[32m~/miniforge3/envs/dnn_cpu/lib/python3.12/site-packages/pandas/core/frame.py:12687\u001b[39m, in \u001b[36m_reindex_for_setitem\u001b[39m\u001b[34m(value, index)\u001b[39m\n\u001b[32m  12685\u001b[39m \u001b[38;5;66;03m# GH#4107\u001b[39;00m\n\u001b[32m  12686\u001b[39m \u001b[38;5;28;01mtry\u001b[39;00m:\n\u001b[32m> \u001b[39m\u001b[32m12687\u001b[39m     reindexed_value = \u001b[43mvalue\u001b[49m\u001b[43m.\u001b[49m\u001b[43mreindex\u001b[49m\u001b[43m(\u001b[49m\u001b[43mindex\u001b[49m\u001b[43m)\u001b[49m._values\n\u001b[32m  12688\u001b[39m \u001b[38;5;28;01mexcept\u001b[39;00m \u001b[38;5;167;01mValueError\u001b[39;00m \u001b[38;5;28;01mas\u001b[39;00m err:\n\u001b[32m  12689\u001b[39m     \u001b[38;5;66;03m# raised in MultiIndex.from_tuples, see test_insert_error_msmgs\u001b[39;00m\n\u001b[32m  12690\u001b[39m     \u001b[38;5;28;01mif\u001b[39;00m \u001b[38;5;129;01mnot\u001b[39;00m value.index.is_unique:\n\u001b[32m  12691\u001b[39m         \u001b[38;5;66;03m# duplicate axis\u001b[39;00m\n",
      "\u001b[36mFile \u001b[39m\u001b[32m~/miniforge3/envs/dnn_cpu/lib/python3.12/site-packages/pandas/core/series.py:5153\u001b[39m, in \u001b[36mSeries.reindex\u001b[39m\u001b[34m(self, index, axis, method, copy, level, fill_value, limit, tolerance)\u001b[39m\n\u001b[32m   5136\u001b[39m \u001b[38;5;129m@doc\u001b[39m(\n\u001b[32m   5137\u001b[39m     NDFrame.reindex,  \u001b[38;5;66;03m# type: ignore[has-type]\u001b[39;00m\n\u001b[32m   5138\u001b[39m     klass=_shared_doc_kwargs[\u001b[33m\"\u001b[39m\u001b[33mklass\u001b[39m\u001b[33m\"\u001b[39m],\n\u001b[32m   (...)\u001b[39m\u001b[32m   5151\u001b[39m     tolerance=\u001b[38;5;28;01mNone\u001b[39;00m,\n\u001b[32m   5152\u001b[39m ) -> Series:\n\u001b[32m-> \u001b[39m\u001b[32m5153\u001b[39m     \u001b[38;5;28;01mreturn\u001b[39;00m \u001b[38;5;28;43msuper\u001b[39;49m\u001b[43m(\u001b[49m\u001b[43m)\u001b[49m\u001b[43m.\u001b[49m\u001b[43mreindex\u001b[49m\u001b[43m(\u001b[49m\n\u001b[32m   5154\u001b[39m \u001b[43m        \u001b[49m\u001b[43mindex\u001b[49m\u001b[43m=\u001b[49m\u001b[43mindex\u001b[49m\u001b[43m,\u001b[49m\n\u001b[32m   5155\u001b[39m \u001b[43m        \u001b[49m\u001b[43mmethod\u001b[49m\u001b[43m=\u001b[49m\u001b[43mmethod\u001b[49m\u001b[43m,\u001b[49m\n\u001b[32m   5156\u001b[39m \u001b[43m        \u001b[49m\u001b[43mcopy\u001b[49m\u001b[43m=\u001b[49m\u001b[43mcopy\u001b[49m\u001b[43m,\u001b[49m\n\u001b[32m   5157\u001b[39m \u001b[43m        \u001b[49m\u001b[43mlevel\u001b[49m\u001b[43m=\u001b[49m\u001b[43mlevel\u001b[49m\u001b[43m,\u001b[49m\n\u001b[32m   5158\u001b[39m \u001b[43m        \u001b[49m\u001b[43mfill_value\u001b[49m\u001b[43m=\u001b[49m\u001b[43mfill_value\u001b[49m\u001b[43m,\u001b[49m\n\u001b[32m   5159\u001b[39m \u001b[43m        \u001b[49m\u001b[43mlimit\u001b[49m\u001b[43m=\u001b[49m\u001b[43mlimit\u001b[49m\u001b[43m,\u001b[49m\n\u001b[32m   5160\u001b[39m \u001b[43m        \u001b[49m\u001b[43mtolerance\u001b[49m\u001b[43m=\u001b[49m\u001b[43mtolerance\u001b[49m\u001b[43m,\u001b[49m\n\u001b[32m   5161\u001b[39m \u001b[43m    \u001b[49m\u001b[43m)\u001b[49m\n",
      "\u001b[36mFile \u001b[39m\u001b[32m~/miniforge3/envs/dnn_cpu/lib/python3.12/site-packages/pandas/core/generic.py:5610\u001b[39m, in \u001b[36mNDFrame.reindex\u001b[39m\u001b[34m(self, labels, index, columns, axis, method, copy, level, fill_value, limit, tolerance)\u001b[39m\n\u001b[32m   5607\u001b[39m     \u001b[38;5;28;01mreturn\u001b[39;00m \u001b[38;5;28mself\u001b[39m._reindex_multi(axes, copy, fill_value)\n\u001b[32m   5609\u001b[39m \u001b[38;5;66;03m# perform the reindex on the axes\u001b[39;00m\n\u001b[32m-> \u001b[39m\u001b[32m5610\u001b[39m \u001b[38;5;28;01mreturn\u001b[39;00m \u001b[38;5;28;43mself\u001b[39;49m\u001b[43m.\u001b[49m\u001b[43m_reindex_axes\u001b[49m\u001b[43m(\u001b[49m\n\u001b[32m   5611\u001b[39m \u001b[43m    \u001b[49m\u001b[43maxes\u001b[49m\u001b[43m,\u001b[49m\u001b[43m \u001b[49m\u001b[43mlevel\u001b[49m\u001b[43m,\u001b[49m\u001b[43m \u001b[49m\u001b[43mlimit\u001b[49m\u001b[43m,\u001b[49m\u001b[43m \u001b[49m\u001b[43mtolerance\u001b[49m\u001b[43m,\u001b[49m\u001b[43m \u001b[49m\u001b[43mmethod\u001b[49m\u001b[43m,\u001b[49m\u001b[43m \u001b[49m\u001b[43mfill_value\u001b[49m\u001b[43m,\u001b[49m\u001b[43m \u001b[49m\u001b[43mcopy\u001b[49m\n\u001b[32m   5612\u001b[39m \u001b[43m\u001b[49m\u001b[43m)\u001b[49m.__finalize__(\u001b[38;5;28mself\u001b[39m, method=\u001b[33m\"\u001b[39m\u001b[33mreindex\u001b[39m\u001b[33m\"\u001b[39m)\n",
      "\u001b[36mFile \u001b[39m\u001b[32m~/miniforge3/envs/dnn_cpu/lib/python3.12/site-packages/pandas/core/generic.py:5633\u001b[39m, in \u001b[36mNDFrame._reindex_axes\u001b[39m\u001b[34m(self, axes, level, limit, tolerance, method, fill_value, copy)\u001b[39m\n\u001b[32m   5630\u001b[39m     \u001b[38;5;28;01mcontinue\u001b[39;00m\n\u001b[32m   5632\u001b[39m ax = \u001b[38;5;28mself\u001b[39m._get_axis(a)\n\u001b[32m-> \u001b[39m\u001b[32m5633\u001b[39m new_index, indexer = \u001b[43max\u001b[49m\u001b[43m.\u001b[49m\u001b[43mreindex\u001b[49m\u001b[43m(\u001b[49m\n\u001b[32m   5634\u001b[39m \u001b[43m    \u001b[49m\u001b[43mlabels\u001b[49m\u001b[43m,\u001b[49m\u001b[43m \u001b[49m\u001b[43mlevel\u001b[49m\u001b[43m=\u001b[49m\u001b[43mlevel\u001b[49m\u001b[43m,\u001b[49m\u001b[43m \u001b[49m\u001b[43mlimit\u001b[49m\u001b[43m=\u001b[49m\u001b[43mlimit\u001b[49m\u001b[43m,\u001b[49m\u001b[43m \u001b[49m\u001b[43mtolerance\u001b[49m\u001b[43m=\u001b[49m\u001b[43mtolerance\u001b[49m\u001b[43m,\u001b[49m\u001b[43m \u001b[49m\u001b[43mmethod\u001b[49m\u001b[43m=\u001b[49m\u001b[43mmethod\u001b[49m\n\u001b[32m   5635\u001b[39m \u001b[43m\u001b[49m\u001b[43m)\u001b[49m\n\u001b[32m   5637\u001b[39m axis = \u001b[38;5;28mself\u001b[39m._get_axis_number(a)\n\u001b[32m   5638\u001b[39m obj = obj._reindex_with_indexers(\n\u001b[32m   5639\u001b[39m     {axis: [new_index, indexer]},\n\u001b[32m   5640\u001b[39m     fill_value=fill_value,\n\u001b[32m   5641\u001b[39m     copy=copy,\n\u001b[32m   5642\u001b[39m     allow_dups=\u001b[38;5;28;01mFalse\u001b[39;00m,\n\u001b[32m   5643\u001b[39m )\n",
      "\u001b[36mFile \u001b[39m\u001b[32m~/miniforge3/envs/dnn_cpu/lib/python3.12/site-packages/pandas/core/indexes/base.py:4429\u001b[39m, in \u001b[36mIndex.reindex\u001b[39m\u001b[34m(self, target, method, level, limit, tolerance)\u001b[39m\n\u001b[32m   4426\u001b[39m     \u001b[38;5;28;01mraise\u001b[39;00m \u001b[38;5;167;01mValueError\u001b[39;00m(\u001b[33m\"\u001b[39m\u001b[33mcannot handle a non-unique multi-index!\u001b[39m\u001b[33m\"\u001b[39m)\n\u001b[32m   4427\u001b[39m \u001b[38;5;28;01melif\u001b[39;00m \u001b[38;5;129;01mnot\u001b[39;00m \u001b[38;5;28mself\u001b[39m.is_unique:\n\u001b[32m   4428\u001b[39m     \u001b[38;5;66;03m# GH#42568\u001b[39;00m\n\u001b[32m-> \u001b[39m\u001b[32m4429\u001b[39m     \u001b[38;5;28;01mraise\u001b[39;00m \u001b[38;5;167;01mValueError\u001b[39;00m(\u001b[33m\"\u001b[39m\u001b[33mcannot reindex on an axis with duplicate labels\u001b[39m\u001b[33m\"\u001b[39m)\n\u001b[32m   4430\u001b[39m \u001b[38;5;28;01melse\u001b[39;00m:\n\u001b[32m   4431\u001b[39m     indexer, _ = \u001b[38;5;28mself\u001b[39m.get_indexer_non_unique(target)\n",
      "\u001b[31mValueError\u001b[39m: cannot reindex on an axis with duplicate labels"
     ]
    },
    {
     "data": {
      "image/png": "[encoded data removed]",
      "text/plain": [
       "<Figure size 3600x1800 with 1 Axes>"
      ]
     },
     "metadata": {},
     "output_type": "display_data"
    }
   ],
   "source": [
    "plot_results_long(\n",
    "    df_results_long=df_results_plot,\n",
    "    output_folder_path=\"../data/results/\",\n",
    "    test_name=TEST_NAME,\n",
    "    plot_order=feature_order,\n",
    "    metrics_include=[\"F1 Amino Acid\", \"F1 Sugar\"],\n",
    ")"
   ]
  },
  {
   "cell_type": "markdown",
   "id": "6e3c99c1",
   "metadata": {},
   "source": [
    "## Tables"
   ]
  },
  {
   "cell_type": "code",
   "execution_count": null,
   "id": "bff62d8e",
   "metadata": {},
   "outputs": [
    {
     "data": {
      "text/html": [
       "<div>\n",
       "<style scoped>\n",
       "    .dataframe tbody tr th:only-of-type {\n",
       "        vertical-align: middle;\n",
       "    }\n",
       "\n",
       "    .dataframe tbody tr th {\n",
       "        vertical-align: top;\n",
       "    }\n",
       "\n",
       "    .dataframe thead th {\n",
       "        text-align: right;\n",
       "    }\n",
       "</style>\n",
       "<table border=\"1\" class=\"dataframe\">\n",
       "  <thead>\n",
       "    <tr style=\"text-align: right;\">\n",
       "      <th>Metric</th>\n",
       "      <th>Balanced Accuracy</th>\n",
       "      <th>F1 Amino Acid</th>\n",
       "      <th>F1 Macro</th>\n",
       "      <th>F1 Sugar</th>\n",
       "    </tr>\n",
       "    <tr>\n",
       "      <th>Feature</th>\n",
       "      <th></th>\n",
       "      <th></th>\n",
       "      <th></th>\n",
       "      <th></th>\n",
       "    </tr>\n",
       "  </thead>\n",
       "  <tbody>\n",
       "    <tr>\n",
       "      <th>DUMMY</th>\n",
       "      <td>0.475±0.120</td>\n",
       "      <td>0.400±0.216</td>\n",
       "      <td>0.439±0.141</td>\n",
       "      <td>0.477±0.207</td>\n",
       "    </tr>\n",
       "    <tr>\n",
       "      <th>AAC</th>\n",
       "      <td>0.754±0.155</td>\n",
       "      <td>0.742±0.156</td>\n",
       "      <td>0.748±0.157</td>\n",
       "      <td>0.754±0.171</td>\n",
       "    </tr>\n",
       "    <tr>\n",
       "      <th>PAAC</th>\n",
       "      <td>0.925±0.061</td>\n",
       "      <td>0.926±0.059</td>\n",
       "      <td>0.921±0.065</td>\n",
       "      <td>0.915±0.073</td>\n",
       "    </tr>\n",
       "    <tr>\n",
       "      <th>AA-KMER3</th>\n",
       "      <td>0.915±0.080</td>\n",
       "      <td>0.919±0.075</td>\n",
       "      <td>0.909±0.088</td>\n",
       "      <td>0.899±0.103</td>\n",
       "    </tr>\n",
       "    <tr>\n",
       "      <th>MULTI-PSSM</th>\n",
       "      <td>0.815±0.122</td>\n",
       "      <td>0.807±0.121</td>\n",
       "      <td>0.810±0.127</td>\n",
       "      <td>0.813±0.141</td>\n",
       "    </tr>\n",
       "    <tr>\n",
       "      <th>META</th>\n",
       "      <td>0.859±0.099</td>\n",
       "      <td>0.855±0.093</td>\n",
       "      <td>0.853±0.106</td>\n",
       "      <td>0.851±0.123</td>\n",
       "    </tr>\n",
       "    <tr>\n",
       "      <th>META-STD</th>\n",
       "      <td>0.889±0.091</td>\n",
       "      <td>0.883±0.097</td>\n",
       "      <td>0.887±0.094</td>\n",
       "      <td>0.890±0.096</td>\n",
       "    </tr>\n",
       "    <tr>\n",
       "      <th>COMB-KMER1</th>\n",
       "      <td>0.917±0.084</td>\n",
       "      <td>0.909±0.100</td>\n",
       "      <td>0.912±0.089</td>\n",
       "      <td>0.915±0.085</td>\n",
       "    </tr>\n",
       "    <tr>\n",
       "      <th>COMB-KMER2</th>\n",
       "      <td>0.945±0.057</td>\n",
       "      <td>0.945±0.058</td>\n",
       "      <td>0.943±0.060</td>\n",
       "      <td>0.942±0.064</td>\n",
       "    </tr>\n",
       "    <tr>\n",
       "      <th>COMB-KMER3</th>\n",
       "      <td>0.945±0.052</td>\n",
       "      <td>0.947±0.051</td>\n",
       "      <td>0.944±0.054</td>\n",
       "      <td>0.940±0.058</td>\n",
       "    </tr>\n",
       "    <tr>\n",
       "      <th>PROTT5-AA</th>\n",
       "      <td>0.918±0.063</td>\n",
       "      <td>0.910±0.071</td>\n",
       "      <td>0.917±0.064</td>\n",
       "      <td>0.923±0.058</td>\n",
       "    </tr>\n",
       "    <tr>\n",
       "      <th>PROSTT5-AA</th>\n",
       "      <td>0.944±0.047</td>\n",
       "      <td>0.941±0.050</td>\n",
       "      <td>0.943±0.047</td>\n",
       "      <td>0.946±0.046</td>\n",
       "    </tr>\n",
       "    <tr>\n",
       "      <th>PROSTT5-3DI</th>\n",
       "      <td>0.937±0.051</td>\n",
       "      <td>0.933±0.053</td>\n",
       "      <td>0.936±0.052</td>\n",
       "      <td>0.938±0.053</td>\n",
       "    </tr>\n",
       "    <tr>\n",
       "      <th>3Di-COMP</th>\n",
       "      <td>0.959±0.056</td>\n",
       "      <td>0.953±0.065</td>\n",
       "      <td>0.958±0.057</td>\n",
       "      <td>0.963±0.049</td>\n",
       "    </tr>\n",
       "    <tr>\n",
       "      <th>3Di-KMER2</th>\n",
       "      <td>0.959±0.047</td>\n",
       "      <td>0.958±0.049</td>\n",
       "      <td>0.958±0.048</td>\n",
       "      <td>0.959±0.048</td>\n",
       "    </tr>\n",
       "    <tr>\n",
       "      <th>3Di-KMER3</th>\n",
       "      <td>0.959±0.067</td>\n",
       "      <td>0.955±0.074</td>\n",
       "      <td>0.959±0.067</td>\n",
       "      <td>0.963±0.061</td>\n",
       "    </tr>\n",
       "  </tbody>\n",
       "</table>\n",
       "</div>"
      ],
      "text/plain": [
       "Metric      Balanced Accuracy F1 Amino Acid     F1 Macro     F1 Sugar\n",
       "Feature                                                              \n",
       "DUMMY             0.475±0.120   0.400±0.216  0.439±0.141  0.477±0.207\n",
       "AAC               0.754±0.155   0.742±0.156  0.748±0.157  0.754±0.171\n",
       "PAAC              0.925±0.061   0.926±0.059  0.921±0.065  0.915±0.073\n",
       "AA-KMER3          0.915±0.080   0.919±0.075  0.909±0.088  0.899±0.103\n",
       "MULTI-PSSM        0.815±0.122   0.807±0.121  0.810±0.127  0.813±0.141\n",
       "META              0.859±0.099   0.855±0.093  0.853±0.106  0.851±0.123\n",
       "META-STD          0.889±0.091   0.883±0.097  0.887±0.094  0.890±0.096\n",
       "COMB-KMER1        0.917±0.084   0.909±0.100  0.912±0.089  0.915±0.085\n",
       "COMB-KMER2        0.945±0.057   0.945±0.058  0.943±0.060  0.942±0.064\n",
       "COMB-KMER3        0.945±0.052   0.947±0.051  0.944±0.054  0.940±0.058\n",
       "PROTT5-AA         0.918±0.063   0.910±0.071  0.917±0.064  0.923±0.058\n",
       "PROSTT5-AA        0.944±0.047   0.941±0.050  0.943±0.047  0.946±0.046\n",
       "PROSTT5-3DI       0.937±0.051   0.933±0.053  0.936±0.052  0.938±0.053\n",
       "3Di-COMP          0.959±0.056   0.953±0.065  0.958±0.057  0.963±0.049\n",
       "3Di-KMER2         0.959±0.047   0.958±0.049  0.958±0.048  0.959±0.048\n",
       "3Di-KMER3         0.959±0.067   0.955±0.074  0.959±0.067  0.963±0.061"
      ]
     },
     "execution_count": 10,
     "metadata": {},
     "output_type": "execute_result"
    }
   ],
   "source": [
    "df_table = df_results_all.copy()\n",
    "df_table.Feature = df_table.Feature.str.replace(\"_\", \"-\").replace(\n",
    "    \"PSSM-META\", \"MULTI-PSSM\"\n",
    ")\n",
    "df_table = df_table[~df_table.Feature.str.match(r\"^PSSM-\\d+\")]\n",
    "feature_order = [\n",
    "    \"DUMMY\",\n",
    "    \"AAC\",\n",
    "    \"PAAC\",\n",
    "    \"AA-KMER3\",\n",
    "    # \"PSSM-META\",\n",
    "    \"MULTI-PSSM\",\n",
    "    \"META\",\n",
    "    \"META-STD\",\n",
    "    \"COMB-KMER1\",\n",
    "    \"COMB-KMER2\",\n",
    "    \"COMB-KMER3\",\n",
    "    \"PROTT5-AA\",\n",
    "    \"PROSTT5-AA\",\n",
    "    \"PROSTT5-3DI\",\n",
    "    # \"PSSM-50-1\",\n",
    "    # \"PSSM-50-3\",\n",
    "    # \"PSSM-90-1\",\n",
    "    # \"PSSM-90-3\",\n",
    "    \"3Di-COMP\",\n",
    "    \"3Di-KMER2\",\n",
    "    \"3Di-KMER3\",\n",
    "]\n",
    "\n",
    "df_table_mean = (\n",
    "    df_table.groupby([\"Feature\", \"Metric\"])\n",
    "    .mean()\n",
    "    .reset_index()\n",
    "    .pivot(index=\"Feature\", columns=\"Metric\", values=\"Value\")\n",
    ")\n",
    "df_table_std = (\n",
    "    df_table.groupby([\"Feature\", \"Metric\"])\n",
    "    .std()\n",
    "    .reset_index()\n",
    "    .pivot(index=\"Feature\", columns=\"Metric\", values=\"Value\")\n",
    ")\n",
    "\n",
    "df_table_paper = (\n",
    "    df_table_mean.map(lambda x: f\"{x:.3f}\").astype(str)\n",
    "    + \"±\"\n",
    "    + df_table_std.map(lambda x: f\"{x:.3f}\").astype(str)\n",
    ")\n",
    "df_table_paper = df_table_paper.loc[feature_order]\n",
    "df_table_paper"
   ]
  },
  {
   "cell_type": "code",
   "execution_count": null,
   "id": "e10fa203",
   "metadata": {},
   "outputs": [
    {
     "name": "stdout",
     "output_type": "stream",
     "text": [
      "\\begin{tabular*}{\\textwidth}{@{\\extracolsep{\\fill}} lrrr}\n",
      "\\toprule\n",
      "Feature & Balanced Accuracy & F1 Amino Acid & F1 Sugar \\\\\n",
      "\\midrule\n",
      "DUMMY & 0.475±0.120 & 0.400±0.216 & 0.477±0.207 \\\\\n",
      "AAC & 0.754±0.155 & 0.742±0.156 & 0.754±0.171 \\\\\n",
      "PAAC & 0.925±0.061 & 0.926±0.059 & 0.915±0.073 \\\\\n",
      "AA-KMER3 & 0.915±0.080 & 0.919±0.075 & 0.899±0.103 \\\\\n",
      "MULTI-PSSM & 0.815±0.122 & 0.807±0.121 & 0.813±0.141 \\\\\n",
      "META & 0.859±0.099 & 0.855±0.093 & 0.851±0.123 \\\\\n",
      "META-STD & 0.889±0.091 & 0.883±0.097 & 0.890±0.096 \\\\\n",
      "COMB-KMER1 & 0.917±0.084 & 0.909±0.100 & 0.915±0.085 \\\\\n",
      "COMB-KMER2 & 0.945±0.057 & 0.945±0.058 & 0.942±0.064 \\\\\n",
      "COMB-KMER3 & 0.945±0.052 & 0.947±0.051 & 0.940±0.058 \\\\\n",
      "PROTT5-AA & 0.918±0.063 & 0.910±0.071 & 0.923±0.058 \\\\\n",
      "PROSTT5-AA & 0.944±0.047 & 0.941±0.050 & 0.946±0.046 \\\\\n",
      "PROSTT5-3DI & 0.937±0.051 & 0.933±0.053 & 0.938±0.053 \\\\\n",
      "3Di-COMP & 0.959±0.056 & 0.953±0.065 & 0.963±0.049 \\\\\n",
      "3Di-KMER2 & 0.959±0.047 & 0.958±0.049 & 0.959±0.048 \\\\\n",
      "3Di-KMER3 & 0.959±0.067 & 0.955±0.074 & 0.963±0.061 \\\\\n",
      "\\bottomrule\n",
      "\\end{tabular*}\n",
      "\n"
     ]
    }
   ],
   "source": [
    "df_table_paper.columns.name = None\n",
    "print(\n",
    "    df_table_paper.reset_index(drop=False)\n",
    "    .drop(\"F1 Macro\", axis=1)\n",
    "    .to_latex(index=False)\n",
    "    .replace(\"tabular\", \"tabular*\")\n",
    "    .replace(\"{llll}\", \"{\\\\textwidth}{@{\\\\extracolsep{\\\\fill}} lrrr}\")\n",
    ")"
   ]
  }
 ],
 "metadata": {
  "kernelspec": {
   "display_name": "dnn_cpu",
   "language": "python",
   "name": "python3"
  },
  "language_info": {
   "codemirror_mode": {
    "name": "ipython",
    "version": 3
   },
   "file_extension": ".py",
   "mimetype": "text/x-python",
   "name": "python",
   "nbconvert_exporter": "python",
   "pygments_lexer": "ipython3",
   "version": "3.12.11"
  }
 },
 "nbformat": 4,
 "nbformat_minor": 5
}
