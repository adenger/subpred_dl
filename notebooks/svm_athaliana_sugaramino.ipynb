{
 "cells": [
  {
   "cell_type": "code",
   "execution_count": null,
   "id": "536dac0d",
   "metadata": {},
   "outputs": [],
   "source": [
    "from subpred.protein_go_datasets import get_transmembrane_transporter_dataset, get_stats"
   ]
  },
  {
   "cell_type": "markdown",
   "id": "fdb881d3",
   "metadata": {},
   "source": [
    "## Parameters"
   ]
  },
  {
   "cell_type": "code",
   "execution_count": null,
   "id": "3b67d568",
   "metadata": {},
   "outputs": [],
   "source": [
    "ORGANISMS = [3702]  # athaliana 3702 yeast 559292 human 9606 ecoli 83333\n",
    "GO_TERMS_CLASSES = [\n",
    "    \"sugar transmembrane transporter activity\",\n",
    "    \"amino acid transmembrane transporter activity\",\n",
    "]\n",
    "IDENTITY_THRESHOLD = 70\n",
    "TEST_NAME = \"svc_at_sugaramino\"\n",
    "# TODO pathlib\n",
    "FEATURES_FOLDER = \"../data/tmp_data/\"  # to share between environments\n",
    "RESULTS_FOLDER = \"../data/results/\"\n",
    "RECALCULATE_RESULTS = True  # If false, use cached results, e.g. to create more plots"
   ]
  },
  {
   "cell_type": "markdown",
   "id": "588f8b4a",
   "metadata": {},
   "source": [
    "## Full dataset"
   ]
  },
  {
   "cell_type": "code",
   "execution_count": null,
   "id": "df18a422",
   "metadata": {},
   "outputs": [],
   "source": [
    "# Get full dataset for stats. Dataset for analysis is created in cell below.\n",
    "dataset_unfiltered = get_transmembrane_transporter_dataset( \n",
    "    organism_ids=ORGANISMS,\n",
    "    swissprot_only=False,\n",
    "    datasets_path=\"../data/datasets/\",\n",
    "    exclude_iea_go_terms=False,\n",
    "    max_sequence_evidence_code=2,\n",
    "    remove_proteins_without_gene_names=False,\n",
    ")\n",
    "get_stats(*dataset_unfiltered)"
   ]
  },
  {
   "cell_type": "markdown",
   "id": "75294a91",
   "metadata": {},
   "source": [
    "## Filtered Subset"
   ]
  },
  {
   "cell_type": "code",
   "execution_count": null,
   "id": "29d90e62",
   "metadata": {},
   "outputs": [],
   "source": [
    "dataset_organism = get_transmembrane_transporter_dataset(  # organism\n",
    "    organism_ids=ORGANISMS,\n",
    "    swissprot_only=True,\n",
    "    datasets_path=\"../data/datasets/\",\n",
    "    exclude_iea_go_terms=True,\n",
    "    max_sequence_evidence_code=1,\n",
    "    remove_proteins_without_gene_names=True,\n",
    ")\n",
    "get_stats(*dataset_organism)"
   ]
  },
  {
   "cell_type": "markdown",
   "id": "151cf8c4",
   "metadata": {},
   "source": [
    "## Sugar/Amino subset"
   ]
  },
  {
   "cell_type": "code",
   "execution_count": null,
   "id": "7d4cfca3",
   "metadata": {},
   "outputs": [],
   "source": [
    "from subpred.dataset_filters import get_classification_subset\n",
    "dataset_organism = get_classification_subset(dataset_full=dataset_organism, go_terms=GO_TERMS_CLASSES)\n",
    "\n",
    "print(\"before clustering:\")\n",
    "dataset_organism[1].go_term_ancestor.value_counts()"
   ]
  },
  {
   "cell_type": "code",
   "execution_count": null,
   "id": "fb74992a",
   "metadata": {},
   "outputs": [],
   "source": [
    "from subpred.dataset_filters import filter_no_3Di_available\n",
    "\n",
    "dataset_organism = filter_no_3Di_available(dataset_organism)\n",
    "dataset_organism[1].go_term_ancestor.value_counts()"
   ]
  },
  {
   "cell_type": "markdown",
   "id": "02963f08",
   "metadata": {},
   "source": [
    "Clustering at 70%"
   ]
  },
  {
   "cell_type": "code",
   "execution_count": null,
   "id": "0293c7f8",
   "metadata": {},
   "outputs": [],
   "source": [
    "from subpred.dataset_filters import cluster_sequences\n",
    "dataset_organism = cluster_sequences(dataset_full=dataset_organism, identity_threshold=IDENTITY_THRESHOLD)\n",
    "dataset_organism[1].go_term_ancestor.value_counts()"
   ]
  },
  {
   "cell_type": "markdown",
   "id": "a31df810",
   "metadata": {},
   "source": [
    "## Feature generation"
   ]
  },
  {
   "cell_type": "code",
   "execution_count": null,
   "id": "8f031a2f",
   "metadata": {},
   "outputs": [],
   "source": [
    "from subpred.features import get_features\n",
    "features_list, series_labels = get_features(dataset_full=dataset_organism)"
   ]
  },
  {
   "cell_type": "markdown",
   "id": "981a2093",
   "metadata": {},
   "source": [
    "For each Feature: Outlier detection, numpy conversion "
   ]
  },
  {
   "cell_type": "code",
   "execution_count": null,
   "id": "890f8e05",
   "metadata": {},
   "outputs": [],
   "source": [
    "from subpred.features import get_ml_datasets\n",
    "ml_datasets = get_ml_datasets(features_list=features_list, series_labels=series_labels)\n",
    "ml_datasets"
   ]
  },
  {
   "cell_type": "code",
   "execution_count": null,
   "id": "dd11c380",
   "metadata": {},
   "outputs": [],
   "source": [
    "# saving as pickle, to load in different notebook with different env, \n",
    "# as tensorflow on GPU has problems with current CUDA version (too new)\n",
    "import pickle\n",
    "with open(f\"{FEATURES_FOLDER}{TEST_NAME}_ml_data.pickle\", 'wb') as handle:\n",
    "    pickle.dump(ml_datasets, handle)"
   ]
  },
  {
   "cell_type": "markdown",
   "id": "c053e812",
   "metadata": {},
   "source": [
    "## Outliers"
   ]
  },
  {
   "cell_type": "code",
   "execution_count": null,
   "id": "6089922e",
   "metadata": {},
   "outputs": [],
   "source": [
    "from subpred.evaluation import outlier_check\n",
    "\n",
    "outlier_check(dataset_full=dataset_organism,ml_datasets=ml_datasets, threshold=0.8)"
   ]
  },
  {
   "cell_type": "markdown",
   "id": "ec28f53c",
   "metadata": {},
   "source": [
    "## Model evaluation SVM"
   ]
  },
  {
   "cell_type": "code",
   "execution_count": null,
   "id": "c3430857",
   "metadata": {},
   "outputs": [],
   "source": [
    "from subpred.evaluation import get_svm_results, plot_results_long, summarize_results_long\n",
    "\n",
    "\n",
    "df_results_long = get_svm_results(\n",
    "    ml_datasets=ml_datasets,\n",
    "    recalculate=RECALCULATE_RESULTS,\n",
    "    output_folder=RESULTS_FOLDER,\n",
    "    test_name=TEST_NAME,\n",
    "    inner_cv=5,\n",
    "    outer_cv=5,\n",
    "    repeats=10,\n",
    "    n_jobs_inner=1,\n",
    "    n_jobs_outer=-1,\n",
    "    scoring_inner=\"balanced_accuracy\",\n",
    "    scoring_outer=[\"balanced_accuracy\", \"f1_macro\"],\n",
    ")\n",
    "# df_results_long"
   ]
  },
  {
   "cell_type": "code",
   "execution_count": null,
   "id": "eb3b40e5",
   "metadata": {},
   "outputs": [],
   "source": [
    "summarize_results_long(df_results_long=df_results_long)"
   ]
  },
  {
   "cell_type": "code",
   "execution_count": null,
   "id": "b20ff35a",
   "metadata": {},
   "outputs": [],
   "source": [
    "plot_results_long(\n",
    "    df_results_long=df_results_long,\n",
    "    output_folder_path=RESULTS_FOLDER,\n",
    "    test_name=TEST_NAME,\n",
    "    metrics_include = [\"balanced_accuracy\"]\n",
    ")"
   ]
  },
  {
   "cell_type": "code",
   "execution_count": null,
   "id": "ede52d4a",
   "metadata": {},
   "outputs": [],
   "source": [
    "plot_results_long(\n",
    "    df_results_long=df_results_long,\n",
    "    output_folder_path=RESULTS_FOLDER,\n",
    "    test_name=TEST_NAME,\n",
    "    metrics_include = [\"f1_macro\", \"balanced_accuracy\"]\n",
    ")"
   ]
  }
 ],
 "metadata": {
  "kernelspec": {
   "display_name": "subpred_deeplearning",
   "language": "python",
   "name": "python3"
  },
  "language_info": {
   "codemirror_mode": {
    "name": "ipython",
    "version": 3
   },
   "file_extension": ".py",
   "mimetype": "text/x-python",
   "name": "python",
   "nbconvert_exporter": "python",
   "pygments_lexer": "ipython3",
   "version": "3.12.10"
  }
 },
 "nbformat": 4,
 "nbformat_minor": 5
}
