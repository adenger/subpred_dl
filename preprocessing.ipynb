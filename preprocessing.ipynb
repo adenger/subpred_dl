{
 "cells": [
  {
   "cell_type": "code",
   "execution_count": 1,
   "id": "d2c0647d",
   "metadata": {},
   "outputs": [],
   "source": [
    "import pandas as pd\n",
    "import pickle\n",
    "import networkx as nx"
   ]
  },
  {
   "cell_type": "code",
   "execution_count": 2,
   "id": "bfcb6f3c",
   "metadata": {},
   "outputs": [],
   "source": [
    "DATASET_FOLDER= \"data/datasets/\""
   ]
  },
  {
   "cell_type": "markdown",
   "id": "6b1b1704",
   "metadata": {},
   "source": [
    "Uniprot"
   ]
  },
  {
   "cell_type": "code",
   "execution_count": 3,
   "id": "74c64ea4",
   "metadata": {},
   "outputs": [],
   "source": [
    "names = [\n",
    "    \"Uniprot\",\n",
    "    \"gene_names\",\n",
    "    \"protein_names\",\n",
    "    \"reviewed\",\n",
    "    \"protein_existence\",\n",
    "    \"sequence\",\n",
    "    \"organism_id\",\n",
    "    \"go_ids\",\n",
    "    \"keyword_ids\",\n",
    "    \"keywords\",\n",
    "    \"tcdb_ids\",\n",
    "    \"interpro_ids\",\n",
    "]\n",
    "dtypes = {\n",
    "    \"Uniprot\": \"string\",\n",
    "    \"gene_names\": \"string\",\n",
    "    \"protein_names\": \"string\",\n",
    "    \"reviewed\": \"category\",\n",
    "    \"protein_existence\": \"category\",\n",
    "    \"sequence\": \"string\",\n",
    "    \"organism_id\": \"int\",\n",
    "    \"go_ids\": \"string\",\n",
    "    \"keyword_ids\": \"string\",\n",
    "    \"keywords\": \"string\",\n",
    "    \"tcdb_ids\": \"string\",\n",
    "    \"interpro_ids\": \"string\",\n",
    "}\n",
    "\n",
    "df = pd.read_table(\n",
    "    \"data/raw/uniprot/uniprot_evidence1-2_nofragments.tsv\",\n",
    "    index_col=0,\n",
    "    header=None,\n",
    "    names=names,\n",
    "    dtype=dtypes,\n",
    "    skiprows=1,\n",
    ")"
   ]
  },
  {
   "cell_type": "code",
   "execution_count": 4,
   "id": "dbded4d5",
   "metadata": {},
   "outputs": [],
   "source": [
    "df.reviewed = df.reviewed.transform(lambda x: x == \"reviewed\").astype(\"bool\")"
   ]
  },
  {
   "cell_type": "code",
   "execution_count": 5,
   "id": "c40d397d",
   "metadata": {},
   "outputs": [],
   "source": [
    "df.protein_existence = df.protein_existence.map(\n",
    "    {\"Evidence at transcript level\": 2, \"Evidence at protein level\": 1}\n",
    ").astype(\"int\")"
   ]
  },
  {
   "cell_type": "code",
   "execution_count": 6,
   "id": "f349e12d",
   "metadata": {},
   "outputs": [],
   "source": [
    "import re\n",
    "\n",
    "sequences_nonstandard_aa_count = (\n",
    "    df[~df.sequence.str.fullmatch(re.compile(\"[ACDEFGHIKLMNPQRSTVWY]+\"))]\n",
    "    .sequence.drop_duplicates()\n",
    "    .shape[0]\n",
    ")\n",
    "sequences_count = df.sequence.drop_duplicates().shape[0]\n",
    "# print(\n",
    "#     f\"proteins with non-standard amino acids: {sequences_nonstandard_aa_count} out of {sequences_count} ({sequences_nonstandard_aa_count / sequences_count * 100:.2f}%)\"\n",
    "# )"
   ]
  },
  {
   "cell_type": "code",
   "execution_count": 7,
   "id": "6297b4a0",
   "metadata": {},
   "outputs": [],
   "source": [
    "# saving accessions of those proteins, for later stats\n",
    "df[\n",
    "    ~df.sequence.str.fullmatch(re.compile(\"[ACDEFGHIKLMNPQRSTVWY]+\"))\n",
    "].sequence.to_frame().drop_duplicates().to_csv(\n",
    "    DATASET_FOLDER + \"proteins_nonstandard_aminoacids.txt\", header=False, sep=\"\\t\"\n",
    ")"
   ]
  },
  {
   "cell_type": "code",
   "execution_count": 8,
   "id": "d441fdb2",
   "metadata": {},
   "outputs": [],
   "source": [
    "# removing the AAs\n",
    "df.sequence = df.sequence.str.replace(\n",
    "    re.compile(\"[^ACDEFGHIKLMNPQRSTVWY]+\"), \"\", regex=True\n",
    ")"
   ]
  },
  {
   "cell_type": "code",
   "execution_count": 9,
   "id": "92300eb3",
   "metadata": {},
   "outputs": [],
   "source": [
    "df_sequences = df.drop(\n",
    "    [\"go_ids\", \"keyword_ids\", \"keywords\", \"tcdb_ids\", \"interpro_ids\"], axis=1\n",
    ")\n",
    "df_sequences.to_pickle(DATASET_FOLDER+\"uniprot.pickle\")"
   ]
  },
  {
   "cell_type": "code",
   "execution_count": 10,
   "id": "23da0b37",
   "metadata": {},
   "outputs": [],
   "source": [
    "df_keywords = (\n",
    "    df.keywords.dropna()\n",
    "    .str.split(\";\")\n",
    "    .explode()\n",
    "    .str.strip()\n",
    "    .astype(\"category\")\n",
    "    .rename(\"keyword\")\n",
    "    .to_frame()\n",
    "    .reset_index(drop=False)\n",
    "    .drop_duplicates()\n",
    "    .reset_index(drop=True)\n",
    ")\n",
    "df_keywords.to_pickle(DATASET_FOLDER+\"keywords.pickle\")"
   ]
  },
  {
   "cell_type": "code",
   "execution_count": 11,
   "id": "fa6bc5be",
   "metadata": {},
   "outputs": [],
   "source": [
    "df_interpro = (\n",
    "    df.interpro_ids.dropna()\n",
    "    .str.rstrip(\";\")\n",
    "    .str.split(\";\")\n",
    "    .explode()\n",
    "    .rename(\"interpro_id\")\n",
    "    .to_frame()\n",
    "    .reset_index(drop=False)\n",
    "    .drop_duplicates()\n",
    "    .reset_index(drop=True)\n",
    ")\n",
    "df_interpro.to_pickle(DATASET_FOLDER+\"interpro.pickle\")"
   ]
  },
  {
   "cell_type": "code",
   "execution_count": 12,
   "id": "2af01118",
   "metadata": {},
   "outputs": [],
   "source": [
    "df_tcdb_uniprot = (\n",
    "    df.tcdb_ids.dropna()\n",
    "    .str.rstrip(\";\")\n",
    "    .str.split(\";\")\n",
    "    .explode()\n",
    "    .rename(\"tcdb_id\")\n",
    "    .reset_index(drop=False)\n",
    "    .drop_duplicates()\n",
    "    .melt(id_vars=[\"tcdb_id\"], value_vars=[\"Uniprot\"])\n",
    ")\n",
    "df_tcdb_uniprot[[\"tcdb_id\", \"value\"]].drop_duplicates().reset_index(\n",
    "    drop=True\n",
    ").to_pickle(DATASET_FOLDER + \"tcdb.pickle\")"
   ]
  },
  {
   "cell_type": "markdown",
   "id": "d31d21d9",
   "metadata": {},
   "source": [
    "GOA"
   ]
  },
  {
   "cell_type": "code",
   "execution_count": null,
   "id": "7f021251",
   "metadata": {},
   "outputs": [],
   "source": [
    "uniprot_accessions = set(df.index.unique())\n",
    "\n",
    "df_go_ebi = pd.DataFrame()\n",
    "\n",
    "with pd.read_table(\n",
    "    \"data/raw/goa/goa_uniprot_all_ebi_filtered.tsv.gz\",\n",
    "    header=None,\n",
    "    names=[\"Uniprot\", \"qualifier\", \"go_id\", \"evidence_code\", \"aspect\", \"date\"],\n",
    "    dtype={\n",
    "        \"Uniprot\": \"string\",\n",
    "        \"qualifier\": \"category\",\n",
    "        \"go_id\": \"string\",\n",
    "        \"evidence_code\": \"category\",\n",
    "        \"aspect\": \"category\",\n",
    "        \"date\": \"int\",\n",
    "    },\n",
    "    chunksize=10**6,\n",
    "    # parse_dates=[\"date\"],\n",
    ") as reader:\n",
    "    for df_chunk in reader:\n",
    "        df_chunk_filtered = (\n",
    "            df_chunk[df_chunk.Uniprot.isin(uniprot_accessions)]\n",
    "            .drop(\"date\", axis=1)\n",
    "            .drop_duplicates()\n",
    "        )\n",
    "        df_go_ebi = pd.concat([df_go_ebi, df_chunk_filtered], axis=0).reset_index(\n",
    "            drop=True\n",
    "        )"
   ]
  },
  {
   "cell_type": "code",
   "execution_count": null,
   "id": "e131126b",
   "metadata": {},
   "outputs": [],
   "source": [
    "df_go_ebi"
   ]
  },
  {
   "cell_type": "code",
   "execution_count": null,
   "id": "6da86df8",
   "metadata": {},
   "outputs": [],
   "source": [
    "# Using numbers starting with 0 as index halves the file size!\n",
    "df_go_ebi = df_go_ebi.reset_index(drop=True)\n",
    "df_go_ebi.to_pickle(DATASET_FOLDER+\"goa.pickle\")"
   ]
  },
  {
   "cell_type": "markdown",
   "id": "c672e48c",
   "metadata": {},
   "source": [
    "GO"
   ]
  },
  {
   "cell_type": "code",
   "execution_count": null,
   "id": "87965cc5",
   "metadata": {},
   "outputs": [],
   "source": [
    "import obonet\n",
    "import pickle\n",
    "graph_go = obonet.read_obo(\"../data/raw/ontologies/go.obo\")\n",
    "\n",
    "with open(DATASET_FOLDER+\"go_obo.pickle\", \"wb\") as pickle_file:\n",
    "    pickle.dump(graph_go, pickle_file)"
   ]
  },
  {
   "cell_type": "markdown",
   "id": "c0c61295",
   "metadata": {},
   "source": [
    "Sequence embeddings ProtT5"
   ]
  },
  {
   "cell_type": "code",
   "execution_count": null,
   "id": "1927156e",
   "metadata": {},
   "outputs": [],
   "source": []
  },
  {
   "cell_type": "markdown",
   "id": "def0d8e0",
   "metadata": {},
   "source": [
    "Alphafold Download"
   ]
  },
  {
   "cell_type": "code",
   "execution_count": null,
   "id": "7c7d258d",
   "metadata": {},
   "outputs": [],
   "source": []
  }
 ],
 "metadata": {
  "kernelspec": {
   "display_name": "subpred_deeplearning",
   "language": "python",
   "name": "python3"
  },
  "language_info": {
   "codemirror_mode": {
    "name": "ipython",
    "version": 3
   },
   "file_extension": ".py",
   "mimetype": "text/x-python",
   "name": "python",
   "nbconvert_exporter": "python",
   "pygments_lexer": "ipython3",
   "version": "3.12.10"
  }
 },
 "nbformat": 4,
 "nbformat_minor": 5
}
