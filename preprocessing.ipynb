{
 "cells": [
  {
   "cell_type": "code",
   "execution_count": 2,
   "id": "d2c0647d",
   "metadata": {},
   "outputs": [],
   "source": [
    "import pandas as pd\n",
    "import pickle\n",
    "import networkx as nx\n",
    "from subpred.util import save_data\n",
    "from subpred.fasta import read_fasta\n",
    "import re\n"
   ]
  },
  {
   "cell_type": "code",
   "execution_count": 3,
   "id": "bfcb6f3c",
   "metadata": {},
   "outputs": [],
   "source": [
    "DATASET_FOLDER= \"data/datasets/\"\n",
    "RAW_DATA_FOLDER= \"data/raw/\""
   ]
  },
  {
   "cell_type": "markdown",
   "id": "6b1b1704",
   "metadata": {},
   "source": [
    "## Uniprot"
   ]
  },
  {
   "cell_type": "code",
   "execution_count": 4,
   "id": "74c64ea4",
   "metadata": {},
   "outputs": [],
   "source": [
    "names = [\n",
    "    \"Uniprot\",\n",
    "    \"gene_names\",\n",
    "    \"protein_names\",\n",
    "    \"reviewed\",\n",
    "    \"protein_existence\",\n",
    "    \"sequence\",\n",
    "    \"organism_id\",\n",
    "    \"go_ids\",\n",
    "    \"keyword_ids\",\n",
    "    \"keywords\",\n",
    "    \"tcdb_ids\",\n",
    "    \"interpro_ids\",\n",
    "]\n",
    "dtypes = {\n",
    "    \"Uniprot\": \"string\",\n",
    "    \"gene_names\": \"string\",\n",
    "    \"protein_names\": \"string\",\n",
    "    \"reviewed\": \"category\",\n",
    "    \"protein_existence\": \"category\",\n",
    "    \"sequence\": \"string\",\n",
    "    \"organism_id\": \"int\",\n",
    "    \"go_ids\": \"string\",\n",
    "    \"keyword_ids\": \"string\",\n",
    "    \"keywords\": \"string\",\n",
    "    \"tcdb_ids\": \"string\",\n",
    "    \"interpro_ids\": \"string\",\n",
    "}\n",
    "\n",
    "df = pd.read_table(\n",
    "    RAW_DATA_FOLDER+\"uniprot/uniprot_evidence1-2_nofragments.tsv\",\n",
    "    index_col=0,\n",
    "    header=None,\n",
    "    names=names,\n",
    "    dtype=dtypes,\n",
    "    skiprows=1,\n",
    ")"
   ]
  },
  {
   "cell_type": "code",
   "execution_count": 5,
   "id": "dbded4d5",
   "metadata": {},
   "outputs": [],
   "source": [
    "df.reviewed = df.reviewed.transform(lambda x: x == \"reviewed\").astype(\"bool\")"
   ]
  },
  {
   "cell_type": "code",
   "execution_count": 6,
   "id": "c40d397d",
   "metadata": {},
   "outputs": [],
   "source": [
    "df.protein_existence = df.protein_existence.map(\n",
    "    {\"Evidence at transcript level\": 2, \"Evidence at protein level\": 1}\n",
    ").astype(\"int\")"
   ]
  },
  {
   "cell_type": "code",
   "execution_count": 7,
   "id": "f349e12d",
   "metadata": {},
   "outputs": [],
   "source": [
    "\n",
    "# sequences_nonstandard_aa_count = (\n",
    "#     df[~df.sequence.str.fullmatch(re.compile(\"[ACDEFGHIKLMNPQRSTVWY]+\"))]\n",
    "#     .sequence.drop_duplicates()\n",
    "#     .shape[0]\n",
    "# )\n",
    "# sequences_count = df.sequence.drop_duplicates().shape[0]\n",
    "# print(\n",
    "#     f\"proteins with non-standard amino acids: {sequences_nonstandard_aa_count} out of {sequences_count} ({sequences_nonstandard_aa_count / sequences_count * 100:.2f}%)\"\n",
    "# )"
   ]
  },
  {
   "cell_type": "code",
   "execution_count": 8,
   "id": "6297b4a0",
   "metadata": {},
   "outputs": [],
   "source": [
    "# saving accessions of those proteins, for later stats\n",
    "\n",
    "df_sequences_nonstandard = df[\n",
    "    ~df.sequence.str.fullmatch(re.compile(\"[ACDEFGHIKLMNPQRSTVWY]+\"))\n",
    "].sequence.to_frame().drop_duplicates()\n",
    "save_data(df_sequences_nonstandard, \"proteins_nonstandard_aminoacids\", folder_path=DATASET_FOLDER)\n"
   ]
  },
  {
   "cell_type": "code",
   "execution_count": 9,
   "id": "d441fdb2",
   "metadata": {},
   "outputs": [],
   "source": [
    "# removing the AAs (all features are based on 20 AAs)\n",
    "df.sequence = df.sequence.str.replace(\n",
    "    re.compile(\"[^ACDEFGHIKLMNPQRSTVWY]+\"), \"\", regex=True\n",
    ")"
   ]
  },
  {
   "cell_type": "code",
   "execution_count": 10,
   "id": "92300eb3",
   "metadata": {},
   "outputs": [],
   "source": [
    "df_sequences = df.drop(\n",
    "    [\"go_ids\", \"keyword_ids\", \"keywords\", \"tcdb_ids\", \"interpro_ids\"], axis=1\n",
    ")\n",
    "# df_sequences.to_pickle(DATASET_FOLDER+\"uniprot.pickle\")\n",
    "save_data(df_sequences, \"uniprot\", DATASET_FOLDER)"
   ]
  },
  {
   "cell_type": "code",
   "execution_count": 11,
   "id": "23da0b37",
   "metadata": {},
   "outputs": [],
   "source": [
    "df_keywords = (\n",
    "    df.keywords.dropna()\n",
    "    .str.split(\";\")\n",
    "    .explode()\n",
    "    .str.strip()\n",
    "    .astype(\"category\")\n",
    "    .rename(\"keyword\")\n",
    "    .to_frame()\n",
    "    .reset_index(drop=False)\n",
    "    .drop_duplicates()\n",
    "    .reset_index(drop=True)\n",
    ")\n",
    "# df_keywords.to_pickle(DATASET_FOLDER+\"keywords.pickle\")\n",
    "save_data(df_keywords, \"keywords\", DATASET_FOLDER)"
   ]
  },
  {
   "cell_type": "code",
   "execution_count": 12,
   "id": "fa6bc5be",
   "metadata": {},
   "outputs": [],
   "source": [
    "df_interpro = (\n",
    "    df.interpro_ids.dropna()\n",
    "    .str.rstrip(\";\")\n",
    "    .str.split(\";\")\n",
    "    .explode()\n",
    "    .rename(\"interpro_id\")\n",
    "    .to_frame()\n",
    "    .reset_index(drop=False)\n",
    "    .drop_duplicates()\n",
    "    .reset_index(drop=True)\n",
    ")\n",
    "# df_interpro.to_pickle(DATASET_FOLDER+\"interpro.pickle\")\n",
    "save_data(df_interpro, \"interpro\", DATASET_FOLDER)"
   ]
  },
  {
   "cell_type": "code",
   "execution_count": 13,
   "id": "2af01118",
   "metadata": {},
   "outputs": [],
   "source": [
    "df_tcdb_uniprot = (\n",
    "    df.tcdb_ids.dropna()\n",
    "    .str.rstrip(\";\")\n",
    "    .str.split(\";\")\n",
    "    .explode()\n",
    "    .rename(\"tcdb_id\")\n",
    "    .reset_index(drop=False)\n",
    "    .drop_duplicates()\n",
    "    .melt(id_vars=[\"tcdb_id\"], value_vars=[\"Uniprot\"])\n",
    ")\n",
    "df_tcdb_uniprot = df_tcdb_uniprot[[\"tcdb_id\", \"value\"]].drop_duplicates().reset_index(\n",
    "    drop=True\n",
    ")\n",
    "save_data(df_tcdb_uniprot, \"tcdb\", DATASET_FOLDER)\n",
    "# .to_pickle(DATASET_FOLDER + \"tcdb.pickle\")"
   ]
  },
  {
   "cell_type": "markdown",
   "id": "1812f7c3",
   "metadata": {},
   "source": [
    "## 3Di"
   ]
  },
  {
   "cell_type": "code",
   "execution_count": null,
   "id": "3cf8d79d",
   "metadata": {},
   "outputs": [
    {
     "data": {
      "application/vnd.microsoft.datawrangler.viewer.v0+json": {
       "columns": [
        {
         "name": "index",
         "rawType": "int64",
         "type": "integer"
        },
        {
         "name": "Uniprot",
         "rawType": "object",
         "type": "string"
        },
        {
         "name": "fold_number",
         "rawType": "object",
         "type": "string"
        },
        {
         "name": "sequence3Di",
         "rawType": "object",
         "type": "string"
        }
       ],
       "conversionMethod": "pd.DataFrame",
       "ref": "25859a2f-9e9f-45a5-ab28-f7817f8dd695",
       "rows": [
        [
         "0",
         "A0A023PYF4",
         "F1",
         "ddddddddddddddwdfdddddddddddddddddddddddddddpppdpppppqvkdfpdkdkdwdfdadpvrhtpwiwiwiwiwidgppdptitididtpddipddfdwdwdwdddpndtdtdtdgddppddppdpddppdddd"
        ],
        [
         "1",
         "A0A023PZB3",
         "F1",
         "dpvvvvvvvvvvvvvvvvvvvvvvppdppdppdpppppppppdppdvpdvvvvvvvvvvppppvvvvvvvvvvpppppppppppddpvvvvvvvvvvvvvvvvvvvvvvvvvvvvvvvvvvvvvpd"
        ],
        [
         "2",
         "A0A023PZE8",
         "F1",
         "dppqqvvvlvvvvvvvvvvvpdqpwawewewewddpdpfkikiktwtwtqdpvpppdpddgptdidididmdtpvsvvvsvvvvvvvvvvvvvvvvvdpddddsdddyfyhyhyddpdddddddrpdppppdd"
        ],
        [
         "3",
         "A0A023PZF2",
         "F1",
         "dppvvvvvvvvvvvvvvlcvlcvvlvvnvvlvvlvvvcvvvlvvlvvvlvvlvvvlvvdddpvnvvsvvvnvvsvvvvvvsvvvsvvvsvvvvvvvlvvvlvvvvvvcvvddppclvppddvvsvvvscvvvvpd"
        ],
        [
         "4",
         "A0A023PZG4",
         "F1",
         "ddddpppdcpppppppppvvlvvvqvvppdpvnvvvllvvllvcvvvvddvcnlvslvscvprhpvvvslvvscvsvvhdsvvsvvvsvcssvvnvvpdpppppddd"
        ],
        [
         "5",
         "A0A024R1R8",
         "F1",
         "dddddddppppppppvpvvvvvvvvvvvvvvvvvvvvvvvvvvvvvcvvvdpvvpdpppppvpd"
        ],
        [
         "6",
         "A0A024RBG1",
         "F1",
         "dadddppadfdadpvgatekefeqedqdpvsfkgkwkadlvgnpatfgfmdgdgppddrqrrhqvrccaqvvfdffwddfldwfadpddhrhtygytytytddhhpdhnccvprvmdmdmdglvvvlvrccvppnsrsvssvsvvvvpdpddddddddddddddrddddpddddddddddd"
        ],
        [
         "7",
         "A0A024RCN7",
         "F1",
         "dqdwdwdwdapdlawiwiwtddrpdididralvvvvvvcvvppdppclvvpdvvpddprsnvvnrpnvsdddpdd"
        ],
        [
         "8",
         "A0A075B6H5",
         "F1",
         "dkakeaaddddddddddpvvvvvvvvvpppvpppfdkdkpprmdigdfqdkdkikiftdpdffqkkwkwwddvpddidtawidgepddidgdpprdcvqwpkddhgrtmimtmrgrddrvprtymdmdgd"
        ],
        [
         "9",
         "A0A075B6H7",
         "F1",
         "dppdvvvvvvvvvppppppvdkdkdkpdpdddddffdkdkikifipwwaqlqfkwkwwadppddtdtaahsqfhgdpphdpqwgkddgigmimimrngddpvsptdmdmdgppddd"
        ],
        [
         "10",
         "A0A075B6H8",
         "F1",
         "dpppdpvvvvvvvvvppdpddddwdkdkppqdddddqqdkdkmkmftpwflfqqkwkwwadppddtdtqdgsqfdgdppddpqwgkddgitiimimggrddpvrptdmdmdgprddd"
        ],
        [
         "11",
         "A0A075B6H9",
         "F1",
         "dpcvvvvvvvvvvvppppppdwdkdwdpdddddaqakdktkifidppclqfkkwkwwaappddtdtawiagsqqdidgdpprdpqwgwghdrrmimtmggrddpvsptdmdmdtdpppd"
        ],
        [
         "12",
         "A0A075B6I0",
         "F1",
         "ddpdpvvvvvvvvvvpvvdpppppdkdkdwdpdddddaqakdktkiaipvwfddlvqfkwkwwaappddidtqdtsqfdgdpprdpqwgwhgdgritmimggrddpvsptdmdmgtrddppd"
        ],
        [
         "13",
         "A0A075B6I1",
         "F1",
         "dddpdppppddpppdppddpddkdkdwdpdddddaqakdktkifipppclqkkkwkwwadppddidtawiagsqldidgdpprdpqwgwghdrrmimimggrddpvrptdmdmdidhpvd"
        ],
        [
         "14",
         "A0A075B6I3",
         "F1",
         "dpcvvvvvvvvvpdppppddwdwdwdpdddddaqakdktkiaippvdflqqkwkwkwwadppgdtftakidndpvdidgtpphdpqwdkdadrvrnmiiiirgrddpvsptdmdmdiddpddd"
        ],
        [
         "15",
         "A0A075B6I4",
         "F1",
         "dcvvvvvvvvppppppppppqfkdwdpdddddaqakdktkifhacqwcvpqnkwkwwadvpddidtqdgsffhgdpphdplwgwhddhrmimimggrddpvsptdmdigtdrnvddd"
        ],
        [
         "16",
         "A0A075B6I6",
         "F1",
         "ddddddddddpppppdpppdfdwdwdpdddddaqakdktktftdcqklqvvwfkwkwwadvpddtdtadtrqfdgdpprdpqwgkhgdrrmimimggrddpvrptdmdmdidgpvddd"
        ],
        [
         "17",
         "A0A075B6I7",
         "F1",
         "dpcvvvvvvvvvpppppppdwdkdwdpdddddaqakdktkiatdppdalqvdkdwdwdddvpddidtawidndpvdidgdpphdpqwdwdddrvrsiimimggrd"
        ],
        [
         "18",
         "A0A075B6I9",
         "F1",
         "ddppvvvvvppppdpppppdkdkdwdpdddddaqakdktwiaipvffadllqfkwkwwadvpddidtqdtsqfdgdpprdpqwtwhgdpriimimggrddpvsptdmdmhthhppdd"
        ],
        [
         "19",
         "A0A075B6J1",
         "F1",
         "dpcpvvvvvvvvpppdddddwdkdwdpdwdddaqaktktkiatdpvdfllqkkkwkwwadvpgdtdtakidndpvdidgdpprdpqwdwdddrvrnmimimrgrddpvrptdmdmdidgpvpd"
        ],
        [
         "20",
         "A0A075B6J2",
         "F1",
         "ddddddddddddppdddppdwdwdwdpdddddaqakdkiktftacvwqavflakwkwwadppddidtqdgsqfdgdpphdpqwgwhddgrmimimggrddpvpptdmdmdgpdpppdd"
        ],
        [
         "21",
         "A0A075B6J6",
         "F1",
         "dddddddddddddppdddddfdkdwdpdddddaqakdktkiftqlvqqfakwkwwadvpddtdtadwrqfrgdpphdpqwgwhddgrmimimggrddpvrptdmdmdtdhpvdtd"
        ],
        [
         "22",
         "A0A075B6J9",
         "F1",
         "dddddddddppppppdpppdwdwdwdpdddddaqakdktktftacvwqavfqakwkwwaappddtdtadgsqfhgdpprdpqwgwhddgrmimimggrddpvsptdmdidgddppppd"
        ],
        [
         "23",
         "A0A075B6K0",
         "F1",
         "ddddpdddpppppppdppddwdkdwdpdddddaqakdktkiftqcpvvfakwkwwadvpddtdtqdtrqfdgdpprdpqwgwhddrrmimimggrddpvsptdmdmdthhpvrdd"
        ],
        [
         "24",
         "A0A075B6K2",
         "F1",
         "dddddddddpppdppdddddfdkdwdpdddddffakdktkiftdvllqwkkwkwwadvpddtdtqdtrffdgdpprdpqwgwhrpdgmimimrhgddpvrptdmdmdthrpvpdd"
        ],
        [
         "25",
         "A0A075B6K4",
         "F1",
         "dddddddddppddpppddqdqdkdwdpdddddaqakdktkifgqqpvvwakwkwwadvpddtdtqdtrqfdgdpprdpqwgwhddhrmimimggrddpvsptdmdidtddppddd"
        ],
        [
         "26",
         "A0A075B6K5",
         "F1",
         "dvvvvvvvvvvvpppdddddfdkdwdpdddddaqakdkikifgaqllvwkkwkwwadvpddtdtadtrffdgdpprdpqwgwhgdggmimimrgrddpvsptdmdmdtgdppddd"
        ],
        [
         "27",
         "A0A075B6K6",
         "F1",
         "dddddddddpppppppdpddkdkdwdpdddddaqakdktkifidqvcqqfkkwkwwadvpddtdtawiagsqqdidgdpprdpqwgwghdrrmimimggrddpvsptdmdmdtfddpppdtd"
        ],
        [
         "28",
         "A0A075B6L2",
         "F1",
         "dddddddddddddddddkdkdfpdpdddddaqakdkgkiaiphppllqwkkwkwwdddpddiggafidghqdwtdgddvpqsvqwtwgadpvrrmimimggrddpvpptdmdmdtdddd"
        ],
        [
         "29",
         "A0A075B6L6",
         "F1",
         "ddddddddpppppppppvpdpqkdkppqdddddaqakdkikifahppfqkkfkwwadvpgdthgafmgrqfdtpdrpnhpvvfwdwgdprsgmimimggrddpvsptdidmdthd"
        ],
        [
         "30",
         "A0A075B6N1",
         "F1",
         "dvvvvvvvvvvvvvppdppppqkdkpppdddddqqdkdkikifgpplfqkkfkwwddvpddtwtakmgrhapdidgtphvpqkdwhrndsgiimimrgspdpcpdtdmdmdghd"
        ],
        [
         "31",
         "A0A075B6N2",
         "F1",
         "dddpppppppppppdwdkdkppqdddddfqdkdkmkiftdpdffqkkwkwwdddpddigtawidgppdaidgdpprdcvqwpwdppgstiimtmrgrddpvvptdmdmdgd"
        ],
        [
         "32",
         "A0A075B6N3",
         "F1",
         "dpvpvvvvvvvvppdpppppdqkdkppqdddddffakdkmkifgdplqqkkfkwwddpppptftqwmgnhapriggtphvpqkdwhrhhsgmimimrngddpvpptdmdmdsddd"
        ],
        [
         "33",
         "A0A075B6N4",
         "F1",
         "dvvvvvvvvvvvvvppdpdddqkdwppqdddddwfakdkikifgdplfakkwkwwaavpddiftawmanhapgidgtpdddcwdwhhndsgiimimdntddpvpptdmdmdghd"
        ],
        [
         "34",
         "A0A075B6P5",
         "F1",
         "ddddcvvvvvvvvppppppddwdkdkpdqdddddffakdkmkmfipwfqqdpvrfrqkwkwwddppddtdtaagsqfhgdpphdplwgkddgttmimimrhgddprsptdmdmdgprddd"
        ],
        [
         "35",
         "A0A075B6Q5",
         "F1",
         "dddppvvvvvvvppppdppldwdwdkdwdpdddaqakikikiatdsdqllvakkfkwwadvpddidgakiagsvrpdidgdpvqppfkdwdddsvrnmimiiggrddpvnptdmdmdd"
        ],
        [
         "36",
         "A0A075B6R0",
         "F1",
         "dvvvvvvvvvvppppvppdpppvvvdddddddaqakdkdkffadppfdqkkwkwwddppddidtawiarnvvrdidgdpprdppqwdwddpdsgiimimggrddpvsdgdmdmdgddd"
        ],
        [
         "37",
         "A0A075B6R2",
         "F1",
         "dvvvvvvvvvvpppppplqdkdkdkdwdpdddaqaktkmkiaipsdalqpqdkkwkwwddppddidtakiahnvrdidgdpvqvvfwdkdddrvrrmimimggrddprpptdmdmdd"
        ],
        [
         "38",
         "A0A075B6R9",
         "F1",
         "dppvvvvvvvvvddddpppdpwdkdkddfpddddafakdkikmfipwwqqapvrfwfkwkwwddvpgdidtadtrqfhgdpprdpqwgkddgitmimimrhgddpvrptdmdmdtprddd"
        ],
        [
         "39",
         "A0A075B6S0",
         "F1",
         "dpdpdddddddddddd"
        ],
        [
         "40",
         "A0A075B6S2",
         "F1",
         "ddddcvvvvvvvvppppppddwdkdkppqdddddffakdkmkifipwwqqdpvrfrfkwkwwddvpgdtdtadgsqfhgdpphdplwgkddgitmimimrhgddpvsptdmdmdgdpddd"
        ],
        [
         "41",
         "A0A075B6S4",
         "F1",
         "dpppddcvvvvvvvvpdpddpddfdkdkppqdddddffdkdkmkmftpwfqfqqkwkwwadppddtdtadgsqfhgdpphdpqwgkddgttmimiirngddpvrptdmdmdgdsddd"
        ],
        [
         "42",
         "A0A075B6S5",
         "F1",
         "dpppddvvvvvvvvvppdpppddwdkdkpdpdddddffdkdkmkiftpwfqfqqkwkwwadppgdtdtadgsqfhgdpphdplwgkddgttmimimrngddpvrptdmdmdgdpddd"
        ],
        [
         "43",
         "A0A075B6S6",
         "F1",
         "ddddcvvvvvvvvppdpppddkdkdkppqdddddffakdkmkifipwfqqapvrfgfkwkwwddvpddidtadtsqahgdpprdpqwgkddgitmimimrhgddprsptdmdidgpsddd"
        ],
        [
         "44",
         "A0A075B6S9",
         "F1",
         "dpppddvvvvvvvvvppppppddkdkdkppqdddddffakdkmkifipwfqfqqkwkwwadppddidtqagsqfhgdpphdplwgkddgigmimimrrgddpvrptdmdmdgddppd"
        ],
        [
         "45",
         "A0A075B6T6",
         "F1",
         "dvvvvvvvvvvvvvvvvvvvpdkdkdwdpddddddaqakdktkiftddlvwqkkwkwwadppddtdtddidrdaawddddqwiwhddsvrrmimimggrddpvsptdmdmdtd"
        ],
        [
         "46",
         "A0A075B6T7",
         "F1",
         "dddddddpdddddddddppppvvvvvvvvvvvvvvvpdddkdkdkppddddddaqakdkikiaidddqfqkkwkwwaappddtdtddmdgqvdqkdddvqwiwgddsvrrmmmimggrddpvsptdmdmdgd"
        ],
        [
         "47",
         "A0A075B6T8",
         "F1",
         "ddddddddpddddppppppdkdkdkddddddddffakdkiwiaiddpdfkkkfkwwadppgdtdtafidhgaqdwtddpqwiwhchpvrrttmiihrgddpvsptdmdmdid"
        ],
        [
         "48",
         "A0A075B6U4",
         "F1",
         "dddddddddddpppppdddpfdkdkdkpppdddddqqakdkmkmfidgpdfqkkwkwwaappgdtdtddidgdaqdwdddpqwikhhhpgmimimggrddpvsptdmdmdtd"
        ],
        [
         "49",
         "A0A075B6U6",
         "F1",
         "dvvvvvvvvvvvpppdqdkdkdwpdddddddffakdktkmamdgddqkkkfkwwddvpddigtfdidpdqdqkdhgppqkiwgrdpvrnitmimhngddpvpptdmdmdiddd"
        ]
       ],
       "shape": {
        "columns": 3,
        "rows": 61227
       }
      },
      "text/html": [
       "<div>\n",
       "<style scoped>\n",
       "    .dataframe tbody tr th:only-of-type {\n",
       "        vertical-align: middle;\n",
       "    }\n",
       "\n",
       "    .dataframe tbody tr th {\n",
       "        vertical-align: top;\n",
       "    }\n",
       "\n",
       "    .dataframe thead th {\n",
       "        text-align: right;\n",
       "    }\n",
       "</style>\n",
       "<table border=\"1\" class=\"dataframe\">\n",
       "  <thead>\n",
       "    <tr style=\"text-align: right;\">\n",
       "      <th></th>\n",
       "      <th>Uniprot</th>\n",
       "      <th>fold_number</th>\n",
       "      <th>sequence3Di</th>\n",
       "    </tr>\n",
       "  </thead>\n",
       "  <tbody>\n",
       "    <tr>\n",
       "      <th>0</th>\n",
       "      <td>A0A023PYF4</td>\n",
       "      <td>F1</td>\n",
       "      <td>ddddddddddddddwdfdddddddddddddddddddddddddddpp...</td>\n",
       "    </tr>\n",
       "    <tr>\n",
       "      <th>1</th>\n",
       "      <td>A0A023PZB3</td>\n",
       "      <td>F1</td>\n",
       "      <td>dpvvvvvvvvvvvvvvvvvvvvvvppdppdppdpppppppppdppd...</td>\n",
       "    </tr>\n",
       "    <tr>\n",
       "      <th>2</th>\n",
       "      <td>A0A023PZE8</td>\n",
       "      <td>F1</td>\n",
       "      <td>dppqqvvvlvvvvvvvvvvvpdqpwawewewewddpdpfkikiktw...</td>\n",
       "    </tr>\n",
       "    <tr>\n",
       "      <th>3</th>\n",
       "      <td>A0A023PZF2</td>\n",
       "      <td>F1</td>\n",
       "      <td>dppvvvvvvvvvvvvvvlcvlcvvlvvnvvlvvlvvvcvvvlvvlv...</td>\n",
       "    </tr>\n",
       "    <tr>\n",
       "      <th>4</th>\n",
       "      <td>A0A023PZG4</td>\n",
       "      <td>F1</td>\n",
       "      <td>ddddpppdcpppppppppvvlvvvqvvppdpvnvvvllvvllvcvv...</td>\n",
       "    </tr>\n",
       "    <tr>\n",
       "      <th>...</th>\n",
       "      <td>...</td>\n",
       "      <td>...</td>\n",
       "      <td>...</td>\n",
       "    </tr>\n",
       "    <tr>\n",
       "      <th>61222</th>\n",
       "      <td>W5XKT8</td>\n",
       "      <td>F1</td>\n",
       "      <td>ddddddddddddpppppppvqlpllqllvlqddpvlqlvllclqqn...</td>\n",
       "    </tr>\n",
       "    <tr>\n",
       "      <th>61223</th>\n",
       "      <td>W6CW81</td>\n",
       "      <td>F1</td>\n",
       "      <td>dvvvvvvvlvlvvlvpddpvvlvvvlvvccvppvddsvvsvvspdd...</td>\n",
       "    </tr>\n",
       "    <tr>\n",
       "      <th>61224</th>\n",
       "      <td>X5JA13</td>\n",
       "      <td>F1</td>\n",
       "      <td>ddpdddddddddddpppdqpaddpvcvpddhdpvvvvcvlcpvldp...</td>\n",
       "    </tr>\n",
       "    <tr>\n",
       "      <th>61225</th>\n",
       "      <td>X5JB51</td>\n",
       "      <td>F1</td>\n",
       "      <td>ddddpdddddddddddddpqlddpvcvpddhdpvvsvcslccvlcv...</td>\n",
       "    </tr>\n",
       "    <tr>\n",
       "      <th>61226</th>\n",
       "      <td>X6R8D5</td>\n",
       "      <td>F1</td>\n",
       "      <td>dddddddddddddddddddddddddddpdddddddddddddpdppd...</td>\n",
       "    </tr>\n",
       "  </tbody>\n",
       "</table>\n",
       "<p>61227 rows × 3 columns</p>\n",
       "</div>"
      ],
      "text/plain": [
       "          Uniprot fold_number  \\\n",
       "0      A0A023PYF4          F1   \n",
       "1      A0A023PZB3          F1   \n",
       "2      A0A023PZE8          F1   \n",
       "3      A0A023PZF2          F1   \n",
       "4      A0A023PZG4          F1   \n",
       "...           ...         ...   \n",
       "61222      W5XKT8          F1   \n",
       "61223      W6CW81          F1   \n",
       "61224      X5JA13          F1   \n",
       "61225      X5JB51          F1   \n",
       "61226      X6R8D5          F1   \n",
       "\n",
       "                                             sequence3Di  \n",
       "0      ddddddddddddddwdfdddddddddddddddddddddddddddpp...  \n",
       "1      dpvvvvvvvvvvvvvvvvvvvvvvppdppdppdpppppppppdppd...  \n",
       "2      dppqqvvvlvvvvvvvvvvvpdqpwawewewewddpdpfkikiktw...  \n",
       "3      dppvvvvvvvvvvvvvvlcvlcvvlvvnvvlvvlvvvcvvvlvvlv...  \n",
       "4      ddddpppdcpppppppppvvlvvvqvvppdpvnvvvllvvllvcvv...  \n",
       "...                                                  ...  \n",
       "61222  ddddddddddddpppppppvqlpllqllvlqddpvlqlvllclqqn...  \n",
       "61223  dvvvvvvvlvlvvlvpddpvvlvvvlvvccvppvddsvvsvvspdd...  \n",
       "61224  ddpdddddddddddpppdqpaddpvcvpddhdpvvvvcvlcpvldp...  \n",
       "61225  ddddpdddddddddddddpqlddpvcvpddhdpvvsvcslccvlcv...  \n",
       "61226  dddddddddddddddddddddddddddpdddddddddddddpdppd...  \n",
       "\n",
       "[61227 rows x 3 columns]"
      ]
     },
     "execution_count": 47,
     "metadata": {},
     "output_type": "execute_result"
    }
   ],
   "source": [
    "fasta_data_3di = read_fasta(RAW_DATA_FOLDER + \"alphafolddb/3Di_sequences.fasta\")  # only contains four model organisms for now\n",
    "\n",
    "accession_pattern = re.compile(\n",
    "    \"[OPQ][0-9][A-Z0-9]{3}[0-9]|[A-NR-Z][0-9]([A-Z][A-Z0-9]{2}[0-9]){1,2}\"\n",
    ")\n",
    "not_in_alphabet_pattern = re.compile(\"[^ACDEFGHIKLMNPQRSTVWYX]+\")\n",
    "\n",
    "def process_fasta(fasta_data_3di:list, lowercase:bool=True):\n",
    "    for header, sequence in fasta_data_3di:\n",
    "        accession = header[1:].split(\"-\")[1]\n",
    "        fold_number = header[1:].split(\"-\")[2]\n",
    "        if not re.fullmatch(accession_pattern, accession):\n",
    "            print(\"found invalid header in 3di fasta file, unable to read accession: \" + header)\n",
    "            continue\n",
    "\n",
    "        if re.search(not_in_alphabet_pattern, sequence):\n",
    "            print(\"Invalid characer found in 3di sequence \"+sequence)\n",
    "            continue\n",
    "\n",
    "        # compatibility with prostt5\n",
    "        # print(sequence_lower)\n",
    "        yield accession, fold_number, sequence.lower() if lowercase else sequence        \n",
    "\n",
    "# In the case of proteins longer than 2700 amino acids (aa), AlphaFold provides 1400aa long, overlapping fragments. \n",
    "# For example, Titin has predicted fragment structures named as Q8WZ42-F1 (residues 1–1400), Q8WZ42-F2 (residues 201–1600), etc. \n",
    "# These fragments are currently only available for the human proteome in these proteome archive files, not on the website.\n",
    "\n",
    "df_uniprot_3Di = pd.DataFrame.from_records(process_fasta(fasta_data_3di=fasta_data_3di), columns=[\"Uniprot\",\"fold_number\", \"sequence3Di\"]) #, index=\"Uniprot\"\n",
    "df_uniprot_3Di\n",
    "\n",
    "# TODO overlap of 200\n",
    "\n",
    "# df_uniprot_3Di.groupby(\"Uniprot\")[\"sequence3Di\"].apply(\"\".join)"
   ]
  },
  {
   "cell_type": "markdown",
   "id": "d31d21d9",
   "metadata": {},
   "source": [
    "## GOA"
   ]
  },
  {
   "cell_type": "code",
   "execution_count": 13,
   "id": "7f021251",
   "metadata": {},
   "outputs": [
    {
     "name": "stdout",
     "output_type": "stream",
     "text": [
      "Filtering GO annotations... done\n"
     ]
    }
   ],
   "source": [
    "uniprot_accessions = set(df.index.unique())\n",
    "\n",
    "df_go_ebi = pd.DataFrame()\n",
    "\n",
    "print(\"Filtering GO annotations...\", end=\" \")\n",
    "with pd.read_table(\n",
    "    RAW_DATA_FOLDER+\"goa/goa_uniprot_all_ebi_filtered.tsv.gz\",\n",
    "    header=None,\n",
    "    names=[\"Uniprot\", \"qualifier\", \"go_id\", \"evidence_code\", \"aspect\", \"date\"],\n",
    "    dtype={\n",
    "        \"Uniprot\": \"string\",\n",
    "        \"qualifier\": \"category\",\n",
    "        \"go_id\": \"string\",\n",
    "        \"evidence_code\": \"category\",\n",
    "        \"aspect\": \"category\",\n",
    "        \"date\": \"int\",\n",
    "    },\n",
    "    chunksize=10**6,\n",
    "    # parse_dates=[\"date\"],\n",
    ") as reader:\n",
    "    for df_chunk in reader:\n",
    "        df_chunk_filtered = (\n",
    "            df_chunk[df_chunk.Uniprot.isin(uniprot_accessions)]\n",
    "            .drop(\"date\", axis=1)\n",
    "            .drop_duplicates()\n",
    "        )\n",
    "        df_go_ebi = pd.concat([df_go_ebi, df_chunk_filtered], axis=0).reset_index(\n",
    "            drop=True\n",
    "        )\n",
    "print(\"done\")"
   ]
  },
  {
   "cell_type": "code",
   "execution_count": 14,
   "id": "e131126b",
   "metadata": {},
   "outputs": [],
   "source": [
    "df_go_ebi = df_go_ebi.drop_duplicates()"
   ]
  },
  {
   "cell_type": "code",
   "execution_count": 15,
   "id": "6da86df8",
   "metadata": {},
   "outputs": [],
   "source": [
    "# Using numbers starting with 0 as index halves the file size!\n",
    "df_go_ebi = df_go_ebi.reset_index(drop=True)\n",
    "\n",
    "save_data(df_go_ebi, \"goa\", DATASET_FOLDER)\n",
    "# df_go_ebi.to_pickle(DATASET_FOLDER+\"goa.pickle\")"
   ]
  },
  {
   "cell_type": "markdown",
   "id": "c672e48c",
   "metadata": {},
   "source": [
    "## GO"
   ]
  },
  {
   "cell_type": "code",
   "execution_count": 18,
   "id": "87965cc5",
   "metadata": {},
   "outputs": [],
   "source": [
    "import obonet\n",
    "import pickle\n",
    "graph_go = obonet.read_obo(RAW_DATA_FOLDER+\"ontologies/go.obo\")\n",
    "\n",
    "save_data(graph_go, \"go_obo\", folder_path=DATASET_FOLDER)"
   ]
  },
  {
   "cell_type": "markdown",
   "id": "def0d8e0",
   "metadata": {},
   "source": [
    "AlphafoldDB Download"
   ]
  },
  {
   "cell_type": "code",
   "execution_count": null,
   "id": "7c7d258d",
   "metadata": {},
   "outputs": [],
   "source": []
  }
 ],
 "metadata": {
  "kernelspec": {
   "display_name": "subpred_deeplearning",
   "language": "python",
   "name": "python3"
  },
  "language_info": {
   "codemirror_mode": {
    "name": "ipython",
    "version": 3
   },
   "file_extension": ".py",
   "mimetype": "text/x-python",
   "name": "python",
   "nbconvert_exporter": "python",
   "pygments_lexer": "ipython3",
   "version": "3.12.10"
  }
 },
 "nbformat": 4,
 "nbformat_minor": 5
}
